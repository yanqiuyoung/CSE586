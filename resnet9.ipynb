{
  "cells": [
    {
      "cell_type": "markdown",
      "metadata": {
        "papermill": {
          "duration": 0.056658,
          "end_time": "2020-12-15T06:52:44.903338",
          "exception": false,
          "start_time": "2020-12-15T06:52:44.846680",
          "status": "completed"
        },
        "tags": [],
        "id": "sTnIpOjyQ3dL"
      },
      "source": [
        "## Importing necessary libraries"
      ]
    },
    {
      "cell_type": "code",
      "execution_count": null,
      "metadata": {
        "execution": {
          "iopub.execute_input": "2020-12-15T06:52:45.138567Z",
          "iopub.status.busy": "2020-12-15T06:52:45.137630Z",
          "iopub.status.idle": "2020-12-15T06:52:54.285881Z",
          "shell.execute_reply": "2020-12-15T06:52:54.284792Z"
        },
        "papermill": {
          "duration": 9.211344,
          "end_time": "2020-12-15T06:52:54.286015",
          "exception": false,
          "start_time": "2020-12-15T06:52:45.074671",
          "status": "completed"
        },
        "tags": [],
        "colab": {
          "base_uri": "https://localhost:8080/"
        },
        "id": "rZvKo7b-Q3dM",
        "outputId": "d1373e16-f8b1-4a91-b7b1-92353fe0378e"
      },
      "outputs": [
        {
          "output_type": "stream",
          "name": "stdout",
          "text": [
            "Requirement already satisfied: torchsummary in /usr/local/lib/python3.7/dist-packages (1.5.1)\n"
          ]
        }
      ],
      "source": [
        "!pip install torchsummary"
      ]
    },
    {
      "cell_type": "code",
      "execution_count": null,
      "metadata": {
        "_cell_guid": "b1076dfc-b9ad-4769-8c92-a6c4dae69d19",
        "_uuid": "8f2839f25d086af736a60e9eeb907d3b93b6e0e5",
        "execution": {
          "iopub.execute_input": "2020-12-15T06:52:54.531023Z",
          "iopub.status.busy": "2020-12-15T06:52:54.530191Z",
          "iopub.status.idle": "2020-12-15T06:52:56.166219Z",
          "shell.execute_reply": "2020-12-15T06:52:56.164951Z"
        },
        "papermill": {
          "duration": 1.704433,
          "end_time": "2020-12-15T06:52:56.166377",
          "exception": false,
          "start_time": "2020-12-15T06:52:54.461944",
          "status": "completed"
        },
        "tags": [],
        "id": "iQhRxu63Q3dO"
      },
      "outputs": [],
      "source": [
        "import os                       # for working with files\n",
        "import numpy as np              # for numerical computationss\n",
        "import pandas as pd             # for working with dataframes\n",
        "import torch                    # Pytorch module \n",
        "import matplotlib.pyplot as plt # for plotting informations on graph and images using tensors\n",
        "import torch.nn as nn           # for creating  neural networks\n",
        "from torch.utils.data import DataLoader # for dataloaders \n",
        "from PIL import Image           # for checking images\n",
        "import torch.nn.functional as F # for functions for calculating loss\n",
        "import torchvision.transforms as transforms   # for transforming images into tensors \n",
        "from torchvision.utils import make_grid       # for data checking\n",
        "from torchvision.datasets import ImageFolder  # for working with classes and images\n",
        "from torchsummary import summary              # for getting the summary of our model\n",
        "\n",
        "%matplotlib inline"
      ]
    },
    {
      "cell_type": "markdown",
      "metadata": {
        "papermill": {
          "duration": 0.058296,
          "end_time": "2020-12-15T06:52:56.283998",
          "exception": false,
          "start_time": "2020-12-15T06:52:56.225702",
          "status": "completed"
        },
        "tags": [],
        "id": "GCmIyDdtQ3dP"
      },
      "source": [
        "## Exploring the data"
      ]
    },
    {
      "cell_type": "code",
      "source": [
        "from google.colab import drive\n",
        "drive.mount(\"/content/gdrive\", force_remount=True)"
      ],
      "metadata": {
        "colab": {
          "base_uri": "https://localhost:8080/"
        },
        "id": "ZMv41FLPSBVE",
        "outputId": "030a7252-b9ac-43ec-8fcb-76f16cdcfc07"
      },
      "execution_count": null,
      "outputs": [
        {
          "output_type": "stream",
          "name": "stdout",
          "text": [
            "Mounted at /content/gdrive\n"
          ]
        }
      ]
    },
    {
      "cell_type": "code",
      "source": [
        "!pip install kaggle\n",
        "%cd /content/gdrive/MyDrive/Research/\n",
        "import os\n",
        "os.environ['KAGGLE_CONFIG_DIR'] = \"/content/gdrive/MyDrive/Research/\"\n",
        "!kaggle datasets download -d vipoooool/new-plant-diseases-dataset"
      ],
      "metadata": {
        "colab": {
          "base_uri": "https://localhost:8080/"
        },
        "id": "uOpVp7lhSFPv",
        "outputId": "60035cc6-9538-4b89-9dc8-715752a50bfa"
      },
      "execution_count": null,
      "outputs": [
        {
          "output_type": "stream",
          "name": "stdout",
          "text": [
            "Requirement already satisfied: kaggle in /usr/local/lib/python3.7/dist-packages (1.5.12)\n",
            "Requirement already satisfied: tqdm in /usr/local/lib/python3.7/dist-packages (from kaggle) (4.64.0)\n",
            "Requirement already satisfied: urllib3 in /usr/local/lib/python3.7/dist-packages (from kaggle) (1.24.3)\n",
            "Requirement already satisfied: certifi in /usr/local/lib/python3.7/dist-packages (from kaggle) (2021.10.8)\n",
            "Requirement already satisfied: requests in /usr/local/lib/python3.7/dist-packages (from kaggle) (2.23.0)\n",
            "Requirement already satisfied: six>=1.10 in /usr/local/lib/python3.7/dist-packages (from kaggle) (1.15.0)\n",
            "Requirement already satisfied: python-dateutil in /usr/local/lib/python3.7/dist-packages (from kaggle) (2.8.2)\n",
            "Requirement already satisfied: python-slugify in /usr/local/lib/python3.7/dist-packages (from kaggle) (6.1.1)\n",
            "Requirement already satisfied: text-unidecode>=1.3 in /usr/local/lib/python3.7/dist-packages (from python-slugify->kaggle) (1.3)\n",
            "Requirement already satisfied: chardet<4,>=3.0.2 in /usr/local/lib/python3.7/dist-packages (from requests->kaggle) (3.0.4)\n",
            "Requirement already satisfied: idna<3,>=2.5 in /usr/local/lib/python3.7/dist-packages (from requests->kaggle) (2.10)\n",
            "/content/gdrive/MyDrive/Research\n",
            "new-plant-diseases-dataset.zip: Skipping, found more recently modified local copy (use --force to force download)\n"
          ]
        }
      ]
    },
    {
      "cell_type": "code",
      "source": [
        "file_list = []\n",
        "import os\n",
        "!unzip '/content/gdrive/MyDrive/Research/new-plant-diseases-dataset.zip' -d path_to_directory\n",
        "for dirname, _, filenames in os.walk('new-plant-diseases-dataset'):\n",
        "    for filename in filenames:\n",
        "        file_list.append(os.path.join(dirname, filename))"
      ],
      "metadata": {
        "colab": {
          "base_uri": "https://localhost:8080/"
        },
        "id": "FnXOkPzZS1PT",
        "outputId": "31fdbdb5-3e1c-4438-be8a-939f2e169274"
      },
      "execution_count": null,
      "outputs": [
        {
          "output_type": "stream",
          "name": "stdout",
          "text": [
            "Archive:  /content/gdrive/MyDrive/Research/new-plant-diseases-dataset.zip\n",
            "replace path_to_directory/New Plant Diseases Dataset(Augmented)/New Plant Diseases Dataset(Augmented)/train/Apple___Apple_scab/00075aa8-d81a-4184-8541-b692b78d398a___FREC_Scab 3335.JPG? [y]es, [n]o, [A]ll, [N]one, [r]ename: "
          ]
        }
      ]
    },
    {
      "cell_type": "code",
      "execution_count": null,
      "metadata": {
        "execution": {
          "iopub.execute_input": "2020-12-15T06:52:56.522416Z",
          "iopub.status.busy": "2020-12-15T06:52:56.521802Z",
          "iopub.status.idle": "2020-12-15T06:52:56.536807Z",
          "shell.execute_reply": "2020-12-15T06:52:56.536213Z"
        },
        "papermill": {
          "duration": 0.07813,
          "end_time": "2020-12-15T06:52:56.536899",
          "exception": false,
          "start_time": "2020-12-15T06:52:56.458769",
          "status": "completed"
        },
        "tags": [],
        "id": "STsL5s2WQ3dQ"
      },
      "outputs": [],
      "source": [
        "data_dir = \"/content/gdrive/MyDrive/Research/path_to_directory/New Plant Diseases Dataset(Augmented)/New Plant Diseases Dataset(Augmented)/\"\n",
        "train_dir = data_dir + \"train\"\n",
        "valid_dir = data_dir + \"valid\"\n",
        "diseases = os.listdir(train_dir)"
      ]
    },
    {
      "cell_type": "code",
      "execution_count": null,
      "metadata": {
        "execution": {
          "iopub.execute_input": "2020-12-15T06:52:56.660806Z",
          "iopub.status.busy": "2020-12-15T06:52:56.660131Z",
          "iopub.status.idle": "2020-12-15T06:52:56.663554Z",
          "shell.execute_reply": "2020-12-15T06:52:56.664320Z"
        },
        "papermill": {
          "duration": 0.068176,
          "end_time": "2020-12-15T06:52:56.664465",
          "exception": false,
          "start_time": "2020-12-15T06:52:56.596289",
          "status": "completed"
        },
        "tags": [],
        "id": "c-YsRcFzQ3dQ"
      },
      "outputs": [],
      "source": [
        "# printing the disease names\n",
        "print(diseases)"
      ]
    },
    {
      "cell_type": "code",
      "execution_count": null,
      "metadata": {
        "execution": {
          "iopub.execute_input": "2020-12-15T06:52:56.789812Z",
          "iopub.status.busy": "2020-12-15T06:52:56.789079Z",
          "iopub.status.idle": "2020-12-15T06:52:56.792917Z",
          "shell.execute_reply": "2020-12-15T06:52:56.792464Z"
        },
        "papermill": {
          "duration": 0.068791,
          "end_time": "2020-12-15T06:52:56.793019",
          "exception": false,
          "start_time": "2020-12-15T06:52:56.724228",
          "status": "completed"
        },
        "tags": [],
        "id": "igWFgNMvQ3dQ"
      },
      "outputs": [],
      "source": [
        "print(\"Total disease classes are: {}\".format(len(diseases)))"
      ]
    },
    {
      "cell_type": "code",
      "execution_count": null,
      "metadata": {
        "execution": {
          "iopub.execute_input": "2020-12-15T06:52:56.922040Z",
          "iopub.status.busy": "2020-12-15T06:52:56.921156Z",
          "iopub.status.idle": "2020-12-15T06:52:56.924421Z",
          "shell.execute_reply": "2020-12-15T06:52:56.923843Z"
        },
        "papermill": {
          "duration": 0.071422,
          "end_time": "2020-12-15T06:52:56.924536",
          "exception": false,
          "start_time": "2020-12-15T06:52:56.853114",
          "status": "completed"
        },
        "tags": [],
        "id": "zt2FT5U7Q3dR"
      },
      "outputs": [],
      "source": [
        "plants = []\n",
        "NumberOfDiseases = 0\n",
        "for plant in diseases:\n",
        "    if plant.split('___')[0] not in plants:\n",
        "        plants.append(plant.split('___')[0])\n",
        "    if plant.split('___')[1] != 'healthy':\n",
        "        NumberOfDiseases += 1"
      ]
    },
    {
      "cell_type": "code",
      "execution_count": null,
      "metadata": {
        "execution": {
          "iopub.execute_input": "2020-12-15T06:52:57.183047Z",
          "iopub.status.busy": "2020-12-15T06:52:57.182397Z",
          "iopub.status.idle": "2020-12-15T06:52:57.186314Z",
          "shell.execute_reply": "2020-12-15T06:52:57.185696Z"
        },
        "papermill": {
          "duration": 0.068933,
          "end_time": "2020-12-15T06:52:57.186415",
          "exception": false,
          "start_time": "2020-12-15T06:52:57.117482",
          "status": "completed"
        },
        "tags": [],
        "id": "vpLGtyoiQ3dR"
      },
      "outputs": [],
      "source": [
        "# unique plants in the dataset\n",
        "print(f\"Unique Plants are: \\n{plants}\")"
      ]
    },
    {
      "cell_type": "code",
      "execution_count": null,
      "metadata": {
        "execution": {
          "iopub.execute_input": "2020-12-15T06:52:57.313744Z",
          "iopub.status.busy": "2020-12-15T06:52:57.313076Z",
          "iopub.status.idle": "2020-12-15T06:52:57.316355Z",
          "shell.execute_reply": "2020-12-15T06:52:57.317088Z"
        },
        "papermill": {
          "duration": 0.069891,
          "end_time": "2020-12-15T06:52:57.317251",
          "exception": false,
          "start_time": "2020-12-15T06:52:57.247360",
          "status": "completed"
        },
        "tags": [],
        "id": "cCdy7OvsQ3dS"
      },
      "outputs": [],
      "source": [
        "# number of unique plants\n",
        "print(\"Number of plants: {}\".format(len(plants)))"
      ]
    },
    {
      "cell_type": "code",
      "execution_count": null,
      "metadata": {
        "execution": {
          "iopub.execute_input": "2020-12-15T06:52:57.444856Z",
          "iopub.status.busy": "2020-12-15T06:52:57.444130Z",
          "iopub.status.idle": "2020-12-15T06:52:57.447598Z",
          "shell.execute_reply": "2020-12-15T06:52:57.448386Z"
        },
        "papermill": {
          "duration": 0.069339,
          "end_time": "2020-12-15T06:52:57.448580",
          "exception": false,
          "start_time": "2020-12-15T06:52:57.379241",
          "status": "completed"
        },
        "tags": [],
        "id": "J77KM0W5Q3dS"
      },
      "outputs": [],
      "source": [
        "# number of unique diseases\n",
        "print(\"Number of diseases: {}\".format(NumberOfDiseases))"
      ]
    },
    {
      "cell_type": "code",
      "execution_count": null,
      "metadata": {
        "execution": {
          "iopub.execute_input": "2020-12-15T06:52:57.704194Z",
          "iopub.status.busy": "2020-12-15T06:52:57.703583Z",
          "iopub.status.idle": "2020-12-15T06:53:03.960106Z",
          "shell.execute_reply": "2020-12-15T06:53:03.960800Z"
        },
        "papermill": {
          "duration": 6.323955,
          "end_time": "2020-12-15T06:53:03.960987",
          "exception": false,
          "start_time": "2020-12-15T06:52:57.637032",
          "status": "completed"
        },
        "tags": [],
        "id": "sAIP2jZiQ3dS"
      },
      "outputs": [],
      "source": [
        "# Number of images for each disease\n",
        "nums = {}\n",
        "for disease in diseases:\n",
        "    nums[disease] = len(os.listdir(train_dir + '/' + disease))\n",
        "    \n",
        "# converting the nums dictionary to pandas dataframe passing index as plant name and number of images as column\n",
        "\n",
        "img_per_class = pd.DataFrame(nums.values(), index=nums.keys(), columns=[\"no. of images\"])\n",
        "img_per_class"
      ]
    },
    {
      "cell_type": "markdown",
      "metadata": {
        "papermill": {
          "duration": 0.090681,
          "end_time": "2020-12-15T06:53:04.148485",
          "exception": false,
          "start_time": "2020-12-15T06:53:04.057804",
          "status": "completed"
        },
        "tags": [],
        "id": "osBPulhtQ3dT"
      },
      "source": [
        "#### Visualizing the above information on a graph"
      ]
    },
    {
      "cell_type": "code",
      "execution_count": null,
      "metadata": {
        "execution": {
          "iopub.execute_input": "2020-12-15T06:53:04.334832Z",
          "iopub.status.busy": "2020-12-15T06:53:04.333992Z",
          "iopub.status.idle": "2020-12-15T06:53:04.860737Z",
          "shell.execute_reply": "2020-12-15T06:53:04.859673Z"
        },
        "papermill": {
          "duration": 0.623297,
          "end_time": "2020-12-15T06:53:04.860887",
          "exception": false,
          "start_time": "2020-12-15T06:53:04.237590",
          "status": "completed"
        },
        "tags": [],
        "id": "_C5X-af7Q3dT"
      },
      "outputs": [],
      "source": [
        "# plotting number of images available for each disease\n",
        "index = [n for n in range(38)]\n",
        "plt.figure(figsize=(20, 5))\n",
        "plt.bar(index, [n for n in nums.values()], width=0.3)\n",
        "plt.xlabel('Plants/Diseases', fontsize=10)\n",
        "plt.ylabel('No of images available', fontsize=10)\n",
        "plt.xticks(index, diseases, fontsize=5, rotation=90)\n",
        "plt.title('Images per each class of plant disease')"
      ]
    },
    {
      "cell_type": "markdown",
      "metadata": {
        "papermill": {
          "duration": 0.073886,
          "end_time": "2020-12-15T06:53:05.152902",
          "exception": false,
          "start_time": "2020-12-15T06:53:05.079016",
          "status": "completed"
        },
        "tags": [],
        "id": "419fqv4tQ3dT"
      },
      "source": [
        "#### Images available for training"
      ]
    },
    {
      "cell_type": "code",
      "execution_count": null,
      "metadata": {
        "execution": {
          "iopub.execute_input": "2020-12-15T06:53:05.285106Z",
          "iopub.status.busy": "2020-12-15T06:53:05.284437Z",
          "iopub.status.idle": "2020-12-15T06:53:05.287876Z",
          "shell.execute_reply": "2020-12-15T06:53:05.288406Z"
        },
        "papermill": {
          "duration": 0.07225,
          "end_time": "2020-12-15T06:53:05.288530",
          "exception": false,
          "start_time": "2020-12-15T06:53:05.216280",
          "status": "completed"
        },
        "tags": [],
        "id": "326-Q6ojQ3dU"
      },
      "outputs": [],
      "source": [
        "n_train = 0\n",
        "for value in nums.values():\n",
        "    n_train += value\n",
        "print(f\"There are {n_train} images for training\")"
      ]
    },
    {
      "cell_type": "markdown",
      "metadata": {
        "papermill": {
          "duration": 0.064118,
          "end_time": "2020-12-15T06:53:05.416780",
          "exception": false,
          "start_time": "2020-12-15T06:53:05.352662",
          "status": "completed"
        },
        "tags": [],
        "id": "J63bbYtYQ3dU"
      },
      "source": [
        "## Data Preparation for training"
      ]
    },
    {
      "cell_type": "code",
      "execution_count": null,
      "metadata": {
        "execution": {
          "iopub.execute_input": "2020-12-15T06:53:05.548188Z",
          "iopub.status.busy": "2020-12-15T06:53:05.547365Z",
          "iopub.status.idle": "2020-12-15T06:54:23.286526Z",
          "shell.execute_reply": "2020-12-15T06:54:23.285629Z"
        },
        "papermill": {
          "duration": 77.805914,
          "end_time": "2020-12-15T06:54:23.286647",
          "exception": false,
          "start_time": "2020-12-15T06:53:05.480733",
          "status": "completed"
        },
        "tags": [],
        "id": "E_hO7GpHQ3dU"
      },
      "outputs": [],
      "source": [
        "# datasets for validation and training\n",
        "train = ImageFolder(train_dir, transform=transforms.ToTensor())\n",
        "valid = ImageFolder(valid_dir, transform=transforms.ToTensor()) "
      ]
    },
    {
      "cell_type": "markdown",
      "metadata": {
        "papermill": {
          "duration": 0.063883,
          "end_time": "2020-12-15T06:54:23.415740",
          "exception": false,
          "start_time": "2020-12-15T06:54:23.351857",
          "status": "completed"
        },
        "tags": [],
        "id": "Qx8eMCu8Q3dU"
      },
      "source": [
        "`torchvision.datasets` is a class which helps in loading all common and famous datasets. It also helps in loading custom datasets. I have used subclass `torchvision.datasets.ImageFolder` which helps in loading the image data when the data is arranged in this way:\n",
        "\n",
        "----------------\n",
        "root/dog/xxx.png\n",
        "\n",
        "root/dog/xxy.png\n",
        "\n",
        "root/dog/xxz.png\n",
        "\n",
        "<br>\n",
        "\n",
        "root/cat/123.png\n",
        "\n",
        "root/cat/nsdf3.png\n",
        "\n",
        "root/cat/asd932_.png\n",
        "\n",
        "----------------"
      ]
    },
    {
      "cell_type": "markdown",
      "metadata": {
        "papermill": {
          "duration": 0.064216,
          "end_time": "2020-12-15T06:54:23.673604",
          "exception": false,
          "start_time": "2020-12-15T06:54:23.609388",
          "status": "completed"
        },
        "tags": [],
        "id": "OjVUCtkVQ3dV"
      },
      "source": [
        "#### Image shape "
      ]
    },
    {
      "cell_type": "code",
      "execution_count": null,
      "metadata": {
        "execution": {
          "iopub.execute_input": "2020-12-15T06:54:23.808409Z",
          "iopub.status.busy": "2020-12-15T06:54:23.807761Z",
          "iopub.status.idle": "2020-12-15T06:54:23.882316Z",
          "shell.execute_reply": "2020-12-15T06:54:23.881570Z"
        },
        "papermill": {
          "duration": 0.144539,
          "end_time": "2020-12-15T06:54:23.882452",
          "exception": false,
          "start_time": "2020-12-15T06:54:23.737913",
          "status": "completed"
        },
        "tags": [],
        "id": "vdtvzQHjQ3dV"
      },
      "outputs": [],
      "source": [
        "img, label = train[0]\n",
        "print(img.shape, label)"
      ]
    },
    {
      "cell_type": "code",
      "execution_count": null,
      "metadata": {
        "execution": {
          "iopub.execute_input": "2020-12-15T06:54:24.153767Z",
          "iopub.status.busy": "2020-12-15T06:54:24.153071Z",
          "iopub.status.idle": "2020-12-15T06:54:24.158913Z",
          "shell.execute_reply": "2020-12-15T06:54:24.159444Z"
        },
        "papermill": {
          "duration": 0.075821,
          "end_time": "2020-12-15T06:54:24.159608",
          "exception": false,
          "start_time": "2020-12-15T06:54:24.083787",
          "status": "completed"
        },
        "tags": [],
        "id": "ilUhpGu7Q3dV"
      },
      "outputs": [],
      "source": [
        "# total number of classes in train set\n",
        "len(train.classes)"
      ]
    },
    {
      "cell_type": "code",
      "execution_count": null,
      "metadata": {
        "execution": {
          "iopub.execute_input": "2020-12-15T06:54:24.296508Z",
          "iopub.status.busy": "2020-12-15T06:54:24.295743Z",
          "iopub.status.idle": "2020-12-15T06:54:24.298712Z",
          "shell.execute_reply": "2020-12-15T06:54:24.298233Z"
        },
        "papermill": {
          "duration": 0.073411,
          "end_time": "2020-12-15T06:54:24.298812",
          "exception": false,
          "start_time": "2020-12-15T06:54:24.225401",
          "status": "completed"
        },
        "tags": [],
        "id": "S-DZN7NOQ3dV"
      },
      "outputs": [],
      "source": [
        "# for checking some images from training dataset\n",
        "def show_image(image, label):\n",
        "    print(\"Label :\" + train.classes[label] + \"(\" + str(label) + \")\")\n",
        "    plt.imshow(image.permute(1, 2, 0))"
      ]
    },
    {
      "cell_type": "markdown",
      "metadata": {
        "papermill": {
          "duration": 0.065343,
          "end_time": "2020-12-15T06:54:24.429052",
          "exception": false,
          "start_time": "2020-12-15T06:54:24.363709",
          "status": "completed"
        },
        "tags": [],
        "id": "eGdGOKPqQ3dW"
      },
      "source": [
        "## Some Images from training dataset"
      ]
    },
    {
      "cell_type": "code",
      "execution_count": null,
      "metadata": {
        "execution": {
          "iopub.execute_input": "2020-12-15T06:54:24.563829Z",
          "iopub.status.busy": "2020-12-15T06:54:24.562998Z",
          "iopub.status.idle": "2020-12-15T06:54:24.742565Z",
          "shell.execute_reply": "2020-12-15T06:54:24.743009Z"
        },
        "papermill": {
          "duration": 0.249149,
          "end_time": "2020-12-15T06:54:24.743136",
          "exception": false,
          "start_time": "2020-12-15T06:54:24.493987",
          "status": "completed"
        },
        "tags": [],
        "id": "WukZ-3IBQ3dW"
      },
      "outputs": [],
      "source": [
        "show_image(*train[0])"
      ]
    },
    {
      "cell_type": "code",
      "execution_count": null,
      "metadata": {
        "execution": {
          "iopub.execute_input": "2020-12-15T06:54:24.886131Z",
          "iopub.status.busy": "2020-12-15T06:54:24.885530Z",
          "iopub.status.idle": "2020-12-15T06:54:25.070966Z",
          "shell.execute_reply": "2020-12-15T06:54:25.071491Z"
        },
        "papermill": {
          "duration": 0.257666,
          "end_time": "2020-12-15T06:54:25.071640",
          "exception": false,
          "start_time": "2020-12-15T06:54:24.813974",
          "status": "completed"
        },
        "tags": [],
        "id": "AEn4I2fMQ3dW"
      },
      "outputs": [],
      "source": [
        "show_image(*train[70000])"
      ]
    },
    {
      "cell_type": "code",
      "execution_count": null,
      "metadata": {
        "execution": {
          "iopub.execute_input": "2020-12-15T06:54:25.232428Z",
          "iopub.status.busy": "2020-12-15T06:54:25.231738Z",
          "iopub.status.idle": "2020-12-15T06:54:25.478718Z",
          "shell.execute_reply": "2020-12-15T06:54:25.479256Z"
        },
        "papermill": {
          "duration": 0.328314,
          "end_time": "2020-12-15T06:54:25.479394",
          "exception": false,
          "start_time": "2020-12-15T06:54:25.151080",
          "status": "completed"
        },
        "tags": [],
        "id": "IvwBBa2LQ3dW"
      },
      "outputs": [],
      "source": [
        "show_image(*train[30000])"
      ]
    },
    {
      "cell_type": "code",
      "execution_count": null,
      "metadata": {
        "execution": {
          "iopub.execute_input": "2020-12-15T06:54:25.648270Z",
          "iopub.status.busy": "2020-12-15T06:54:25.647636Z",
          "iopub.status.idle": "2020-12-15T06:54:25.655836Z",
          "shell.execute_reply": "2020-12-15T06:54:25.655136Z"
        },
        "papermill": {
          "duration": 0.093711,
          "end_time": "2020-12-15T06:54:25.655943",
          "exception": false,
          "start_time": "2020-12-15T06:54:25.562232",
          "status": "completed"
        },
        "tags": [],
        "id": "Qz3JUuouQ3dW"
      },
      "outputs": [],
      "source": [
        "# Setting the seed value\n",
        "random_seed = 7\n",
        "torch.manual_seed(random_seed)"
      ]
    },
    {
      "cell_type": "code",
      "execution_count": null,
      "metadata": {
        "execution": {
          "iopub.execute_input": "2020-12-15T06:54:25.813296Z",
          "iopub.status.busy": "2020-12-15T06:54:25.812568Z",
          "iopub.status.idle": "2020-12-15T06:54:25.815698Z",
          "shell.execute_reply": "2020-12-15T06:54:25.815224Z"
        },
        "papermill": {
          "duration": 0.083405,
          "end_time": "2020-12-15T06:54:25.815796",
          "exception": false,
          "start_time": "2020-12-15T06:54:25.732391",
          "status": "completed"
        },
        "tags": [],
        "id": "dkWX4tpyQ3dW"
      },
      "outputs": [],
      "source": [
        "# setting the batch size\n",
        "batch_size = 32"
      ]
    },
    {
      "cell_type": "code",
      "execution_count": null,
      "metadata": {
        "execution": {
          "iopub.execute_input": "2020-12-15T06:54:26.144973Z",
          "iopub.status.busy": "2020-12-15T06:54:26.143969Z",
          "iopub.status.idle": "2020-12-15T06:54:26.146484Z",
          "shell.execute_reply": "2020-12-15T06:54:26.147104Z"
        },
        "papermill": {
          "duration": 0.097126,
          "end_time": "2020-12-15T06:54:26.147260",
          "exception": false,
          "start_time": "2020-12-15T06:54:26.050134",
          "status": "completed"
        },
        "tags": [],
        "id": "8o5P-sjzQ3dX"
      },
      "outputs": [],
      "source": [
        "# DataLoaders for training and validation\n",
        "train_dl = DataLoader(train, batch_size, shuffle=True, num_workers=2, pin_memory=True)\n",
        "valid_dl = DataLoader(valid, batch_size, num_workers=2, pin_memory=True)"
      ]
    },
    {
      "cell_type": "code",
      "execution_count": null,
      "metadata": {
        "execution": {
          "iopub.execute_input": "2020-12-15T06:54:26.459616Z",
          "iopub.status.busy": "2020-12-15T06:54:26.458860Z",
          "iopub.status.idle": "2020-12-15T06:54:26.461331Z",
          "shell.execute_reply": "2020-12-15T06:54:26.461924Z"
        },
        "papermill": {
          "duration": 0.08434,
          "end_time": "2020-12-15T06:54:26.462045",
          "exception": false,
          "start_time": "2020-12-15T06:54:26.377705",
          "status": "completed"
        },
        "tags": [],
        "id": "y4vATeTNQ3dX"
      },
      "outputs": [],
      "source": [
        "# helper function to show a batch of training instances\n",
        "def show_batch(data):\n",
        "    for images, labels in data:\n",
        "        fig, ax = plt.subplots(figsize=(30, 30))\n",
        "        ax.set_xticks([]); ax.set_yticks([])\n",
        "        ax.imshow(make_grid(images, nrow=8).permute(1, 2, 0))\n",
        "        break"
      ]
    },
    {
      "cell_type": "code",
      "execution_count": null,
      "metadata": {
        "execution": {
          "iopub.execute_input": "2020-12-15T06:54:26.996833Z",
          "iopub.status.busy": "2020-12-15T06:54:26.995790Z",
          "iopub.status.idle": "2020-12-15T06:54:33.581290Z",
          "shell.execute_reply": "2020-12-15T06:54:33.581925Z"
        },
        "papermill": {
          "duration": 7.0439,
          "end_time": "2020-12-15T06:54:33.582079",
          "exception": false,
          "start_time": "2020-12-15T06:54:26.538179",
          "status": "completed"
        },
        "tags": [],
        "id": "Kb7TwTCWQ3dX"
      },
      "outputs": [],
      "source": [
        "# Images for first batch of training\n",
        "show_batch(train_dl) "
      ]
    },
    {
      "cell_type": "markdown",
      "metadata": {
        "papermill": {
          "duration": 0.148317,
          "end_time": "2020-12-15T06:54:33.881587",
          "exception": false,
          "start_time": "2020-12-15T06:54:33.733270",
          "status": "completed"
        },
        "tags": [],
        "id": "e-K9Cj0oQ3dX"
      },
      "source": [
        "## Modelling"
      ]
    },
    {
      "cell_type": "markdown",
      "metadata": {
        "papermill": {
          "duration": 0.145958,
          "end_time": "2020-12-15T06:54:34.470984",
          "exception": false,
          "start_time": "2020-12-15T06:54:34.325026",
          "status": "completed"
        },
        "tags": [],
        "id": "b-4X9QrTQ3dY"
      },
      "source": [
        "#### Some helper functions"
      ]
    },
    {
      "cell_type": "code",
      "execution_count": null,
      "metadata": {
        "execution": {
          "iopub.execute_input": "2020-12-15T06:54:34.778895Z",
          "iopub.status.busy": "2020-12-15T06:54:34.777939Z",
          "iopub.status.idle": "2020-12-15T06:54:34.780617Z",
          "shell.execute_reply": "2020-12-15T06:54:34.781074Z"
        },
        "papermill": {
          "duration": 0.163682,
          "end_time": "2020-12-15T06:54:34.781228",
          "exception": false,
          "start_time": "2020-12-15T06:54:34.617546",
          "status": "completed"
        },
        "tags": [],
        "id": "0Xdgmd5RQ3dY"
      },
      "outputs": [],
      "source": [
        "# for moving data into GPU (if available)\n",
        "def get_default_device():\n",
        "    \"\"\"Pick GPU if available, else CPU\"\"\"\n",
        "    if torch.cuda.is_available:\n",
        "        return torch.device(\"cuda\")\n",
        "    else:\n",
        "        return torch.device(\"cpu\")\n",
        "\n",
        "# for moving data to device (CPU or GPU)\n",
        "def to_device(data, device):\n",
        "    \"\"\"Move tensor(s) to chosen device\"\"\"\n",
        "    if isinstance(data, (list,tuple)):\n",
        "        return [to_device(x, device) for x in data]\n",
        "    return data.to(device, non_blocking=True)\n",
        "\n",
        "# for loading in the device (GPU if available else CPU)\n",
        "class DeviceDataLoader():\n",
        "    \"\"\"Wrap a dataloader to move data to a device\"\"\"\n",
        "    def __init__(self, dl, device):\n",
        "        self.dl = dl\n",
        "        self.device = device\n",
        "        \n",
        "    def __iter__(self):\n",
        "        \"\"\"Yield a batch of data after moving it to device\"\"\"\n",
        "        for b in self.dl:\n",
        "            yield to_device(b, self.device)\n",
        "        \n",
        "    def __len__(self):\n",
        "        \"\"\"Number of batches\"\"\"\n",
        "        return len(self.dl)"
      ]
    },
    {
      "cell_type": "code",
      "execution_count": null,
      "metadata": {
        "execution": {
          "iopub.execute_input": "2020-12-15T06:54:35.382785Z",
          "iopub.status.busy": "2020-12-15T06:54:35.381977Z",
          "iopub.status.idle": "2020-12-15T06:54:35.385943Z",
          "shell.execute_reply": "2020-12-15T06:54:35.385339Z"
        },
        "papermill": {
          "duration": 0.159177,
          "end_time": "2020-12-15T06:54:35.386046",
          "exception": false,
          "start_time": "2020-12-15T06:54:35.226869",
          "status": "completed"
        },
        "tags": [],
        "id": "3OptUhRCQ3dY"
      },
      "outputs": [],
      "source": [
        "device = get_default_device()\n",
        "device"
      ]
    },
    {
      "cell_type": "code",
      "execution_count": null,
      "metadata": {
        "execution": {
          "iopub.execute_input": "2020-12-15T06:54:35.989565Z",
          "iopub.status.busy": "2020-12-15T06:54:35.988272Z",
          "iopub.status.idle": "2020-12-15T06:54:35.991640Z",
          "shell.execute_reply": "2020-12-15T06:54:35.991102Z"
        },
        "papermill": {
          "duration": 0.163641,
          "end_time": "2020-12-15T06:54:35.991753",
          "exception": false,
          "start_time": "2020-12-15T06:54:35.828112",
          "status": "completed"
        },
        "tags": [],
        "id": "3zzw9adXQ3dY"
      },
      "outputs": [],
      "source": [
        "# Moving data into GPU\n",
        "train_dl = DeviceDataLoader(train_dl, device)\n",
        "valid_dl = DeviceDataLoader(valid_dl, device)"
      ]
    },
    {
      "cell_type": "markdown",
      "metadata": {
        "papermill": {
          "duration": 0.147431,
          "end_time": "2020-12-15T06:54:36.291718",
          "exception": false,
          "start_time": "2020-12-15T06:54:36.144287",
          "status": "completed"
        },
        "tags": [],
        "id": "tXWpl3RaQ3dZ"
      },
      "source": [
        "## Building the model architecture"
      ]
    },
    {
      "cell_type": "markdown",
      "metadata": {
        "papermill": {
          "duration": 0.147768,
          "end_time": "2020-12-15T06:54:37.826313",
          "exception": false,
          "start_time": "2020-12-15T06:54:37.678545",
          "status": "completed"
        },
        "tags": [],
        "id": "OPz5rdd7Q3dZ"
      },
      "source": [
        "#### Residual Block code implementation"
      ]
    },
    {
      "cell_type": "code",
      "execution_count": null,
      "metadata": {
        "execution": {
          "iopub.execute_input": "2020-12-15T06:54:38.140386Z",
          "iopub.status.busy": "2020-12-15T06:54:38.139498Z",
          "iopub.status.idle": "2020-12-15T06:54:38.142557Z",
          "shell.execute_reply": "2020-12-15T06:54:38.142037Z"
        },
        "papermill": {
          "duration": 0.167702,
          "end_time": "2020-12-15T06:54:38.142655",
          "exception": false,
          "start_time": "2020-12-15T06:54:37.974953",
          "status": "completed"
        },
        "tags": [],
        "id": "SwL87Xo0Q3da"
      },
      "outputs": [],
      "source": [
        "class SimpleResidualBlock(nn.Module):\n",
        "    def __init__(self):\n",
        "        super().__init__()\n",
        "        self.conv1 = nn.Conv2d(in_channels=3, out_channels=3, kernel_size=3, stride=1, padding=1)\n",
        "        self.relu1 = nn.ReLU()\n",
        "        self.conv2 = nn.Conv2d(in_channels=3, out_channels=3, kernel_size=3, stride=1, padding=1)\n",
        "        self.relu2 = nn.ReLU()\n",
        "        \n",
        "    def forward(self, x):\n",
        "        out = self.conv1(x)\n",
        "        out = self.relu1(out)\n",
        "        out = self.conv2(out)\n",
        "        return self.relu2(out) + x # ReLU can be applied before or after adding the input"
      ]
    },
    {
      "cell_type": "code",
      "execution_count": null,
      "metadata": {
        "execution": {
          "iopub.execute_input": "2020-12-15T06:54:39.367899Z",
          "iopub.status.busy": "2020-12-15T06:54:39.362848Z",
          "iopub.status.idle": "2020-12-15T06:54:39.389963Z",
          "shell.execute_reply": "2020-12-15T06:54:39.391114Z"
        },
        "papermill": {
          "duration": 0.532121,
          "end_time": "2020-12-15T06:54:39.391404",
          "exception": false,
          "start_time": "2020-12-15T06:54:38.859283",
          "status": "completed"
        },
        "tags": [],
        "id": "gkw3U1L7Q3da"
      },
      "outputs": [],
      "source": [
        "# for calculating the accuracy\n",
        "def accuracy(outputs, labels):\n",
        "    _, preds = torch.max(outputs, dim=1)\n",
        "    return torch.tensor(torch.sum(preds == labels).item() / len(preds))\n",
        "\n",
        "\n",
        "# base class for the model\n",
        "class ImageClassificationBase(nn.Module):\n",
        "    \n",
        "    def training_step(self, batch):\n",
        "        images, labels = batch\n",
        "        out = self(images)                  # Generate predictions\n",
        "        loss = F.cross_entropy(out, labels) # Calculate loss\n",
        "        return loss\n",
        "    \n",
        "    def validation_step(self, batch):\n",
        "        images, labels = batch\n",
        "        out = self(images)                   # Generate prediction\n",
        "        loss = F.cross_entropy(out, labels)  # Calculate loss\n",
        "        acc = accuracy(out, labels)          # Calculate accuracy\n",
        "        return {\"val_loss\": loss.detach(), \"val_accuracy\": acc}\n",
        "    \n",
        "    def validation_epoch_end(self, outputs):\n",
        "        batch_losses = [x[\"val_loss\"] for x in outputs]\n",
        "        batch_accuracy = [x[\"val_accuracy\"] for x in outputs]\n",
        "        epoch_loss = torch.stack(batch_losses).mean()       # Combine loss  \n",
        "        epoch_accuracy = torch.stack(batch_accuracy).mean()\n",
        "        return {\"val_loss\": epoch_loss, \"val_accuracy\": epoch_accuracy} # Combine accuracies\n",
        "    \n",
        "    def epoch_end(self, epoch, result):\n",
        "        print(\"Epoch [{}], last_lr: {:.5f}, train_loss: {:.4f}, val_loss: {:.4f}, val_acc: {:.4f}\".format(\n",
        "            epoch, result['lrs'][-1], result['train_loss'], result['val_loss'], result['val_accuracy']))\n",
        "        "
      ]
    },
    {
      "cell_type": "markdown",
      "metadata": {
        "papermill": {
          "duration": 0.203515,
          "end_time": "2020-12-15T06:54:39.894829",
          "exception": false,
          "start_time": "2020-12-15T06:54:39.691314",
          "status": "completed"
        },
        "tags": [],
        "id": "O8yuQNtUQ3da"
      },
      "source": [
        "## Defining the final architecture of the model"
      ]
    },
    {
      "cell_type": "code",
      "execution_count": null,
      "metadata": {
        "execution": {
          "iopub.execute_input": "2020-12-15T06:54:40.222910Z",
          "iopub.status.busy": "2020-12-15T06:54:40.222083Z",
          "iopub.status.idle": "2020-12-15T06:54:40.226361Z",
          "shell.execute_reply": "2020-12-15T06:54:40.225720Z"
        },
        "papermill": {
          "duration": 0.17469,
          "end_time": "2020-12-15T06:54:40.226460",
          "exception": false,
          "start_time": "2020-12-15T06:54:40.051770",
          "status": "completed"
        },
        "tags": [],
        "id": "c4veqTFUQ3da"
      },
      "outputs": [],
      "source": [
        "# Architecture for training\n",
        "\n",
        "# convolution block with BatchNormalization\n",
        "def ConvBlock(in_channels, out_channels, pool=False):\n",
        "    layers = [nn.Conv2d(in_channels, out_channels, kernel_size=3, padding=1),\n",
        "             nn.BatchNorm2d(out_channels),\n",
        "             nn.ReLU(inplace=True)]\n",
        "    if pool:\n",
        "        layers.append(nn.MaxPool2d(4))\n",
        "    return nn.Sequential(*layers)\n",
        "\n",
        "\n",
        "# resnet architecture \n",
        "class ResNet9(ImageClassificationBase):\n",
        "    def __init__(self, in_channels, num_diseases):\n",
        "        super().__init__()\n",
        "        \n",
        "        self.conv1 = ConvBlock(in_channels, 64)\n",
        "        self.conv2 = ConvBlock(64, 128, pool=True) # out_dim : 128 x 64 x 64 \n",
        "        self.res1 = nn.Sequential(ConvBlock(128, 128), ConvBlock(128, 128))\n",
        "        \n",
        "        self.conv3 = ConvBlock(128, 256, pool=True) # out_dim : 256 x 16 x 16\n",
        "        self.conv4 = ConvBlock(256, 512, pool=True) # out_dim : 512 x 4 x 44\n",
        "        self.res2 = nn.Sequential(ConvBlock(512, 512), ConvBlock(512, 512))\n",
        "        \n",
        "        self.classifier = nn.Sequential(nn.MaxPool2d(4),\n",
        "                                       nn.Flatten(),\n",
        "                                       nn.Linear(512, num_diseases))\n",
        "        \n",
        "    def forward(self, xb): # xb is the loaded batch\n",
        "        out = self.conv1(xb)\n",
        "        out = self.conv2(out)\n",
        "        out = self.res1(out) + out\n",
        "        out = self.conv3(out)\n",
        "        out = self.conv4(out)\n",
        "        out = self.res2(out) + out\n",
        "        out = self.classifier(out)\n",
        "        return out        "
      ]
    },
    {
      "cell_type": "code",
      "execution_count": null,
      "metadata": {
        "execution": {
          "iopub.execute_input": "2020-12-15T06:54:40.847626Z",
          "iopub.status.busy": "2020-12-15T06:54:40.846635Z",
          "iopub.status.idle": "2020-12-15T06:54:40.918385Z",
          "shell.execute_reply": "2020-12-15T06:54:40.918921Z"
        },
        "papermill": {
          "duration": 0.237477,
          "end_time": "2020-12-15T06:54:40.919048",
          "exception": false,
          "start_time": "2020-12-15T06:54:40.681571",
          "status": "completed"
        },
        "tags": [],
        "id": "4WHXAo8gQ3db",
        "outputId": "0fb9fb4b-7ecb-4197-e4c2-8b8c225eb2d5",
        "colab": {
          "base_uri": "https://localhost:8080/"
        }
      },
      "outputs": [
        {
          "output_type": "execute_result",
          "data": {
            "text/plain": [
              "ResNet9(\n",
              "  (conv1): Sequential(\n",
              "    (0): Conv2d(3, 64, kernel_size=(3, 3), stride=(1, 1), padding=(1, 1))\n",
              "    (1): BatchNorm2d(64, eps=1e-05, momentum=0.1, affine=True, track_running_stats=True)\n",
              "    (2): ReLU(inplace=True)\n",
              "  )\n",
              "  (conv2): Sequential(\n",
              "    (0): Conv2d(64, 128, kernel_size=(3, 3), stride=(1, 1), padding=(1, 1))\n",
              "    (1): BatchNorm2d(128, eps=1e-05, momentum=0.1, affine=True, track_running_stats=True)\n",
              "    (2): ReLU(inplace=True)\n",
              "    (3): MaxPool2d(kernel_size=4, stride=4, padding=0, dilation=1, ceil_mode=False)\n",
              "  )\n",
              "  (res1): Sequential(\n",
              "    (0): Sequential(\n",
              "      (0): Conv2d(128, 128, kernel_size=(3, 3), stride=(1, 1), padding=(1, 1))\n",
              "      (1): BatchNorm2d(128, eps=1e-05, momentum=0.1, affine=True, track_running_stats=True)\n",
              "      (2): ReLU(inplace=True)\n",
              "    )\n",
              "    (1): Sequential(\n",
              "      (0): Conv2d(128, 128, kernel_size=(3, 3), stride=(1, 1), padding=(1, 1))\n",
              "      (1): BatchNorm2d(128, eps=1e-05, momentum=0.1, affine=True, track_running_stats=True)\n",
              "      (2): ReLU(inplace=True)\n",
              "    )\n",
              "  )\n",
              "  (conv3): Sequential(\n",
              "    (0): Conv2d(128, 256, kernel_size=(3, 3), stride=(1, 1), padding=(1, 1))\n",
              "    (1): BatchNorm2d(256, eps=1e-05, momentum=0.1, affine=True, track_running_stats=True)\n",
              "    (2): ReLU(inplace=True)\n",
              "    (3): MaxPool2d(kernel_size=4, stride=4, padding=0, dilation=1, ceil_mode=False)\n",
              "  )\n",
              "  (conv4): Sequential(\n",
              "    (0): Conv2d(256, 512, kernel_size=(3, 3), stride=(1, 1), padding=(1, 1))\n",
              "    (1): BatchNorm2d(512, eps=1e-05, momentum=0.1, affine=True, track_running_stats=True)\n",
              "    (2): ReLU(inplace=True)\n",
              "    (3): MaxPool2d(kernel_size=4, stride=4, padding=0, dilation=1, ceil_mode=False)\n",
              "  )\n",
              "  (res2): Sequential(\n",
              "    (0): Sequential(\n",
              "      (0): Conv2d(512, 512, kernel_size=(3, 3), stride=(1, 1), padding=(1, 1))\n",
              "      (1): BatchNorm2d(512, eps=1e-05, momentum=0.1, affine=True, track_running_stats=True)\n",
              "      (2): ReLU(inplace=True)\n",
              "    )\n",
              "    (1): Sequential(\n",
              "      (0): Conv2d(512, 512, kernel_size=(3, 3), stride=(1, 1), padding=(1, 1))\n",
              "      (1): BatchNorm2d(512, eps=1e-05, momentum=0.1, affine=True, track_running_stats=True)\n",
              "      (2): ReLU(inplace=True)\n",
              "    )\n",
              "  )\n",
              "  (classifier): Sequential(\n",
              "    (0): MaxPool2d(kernel_size=4, stride=4, padding=0, dilation=1, ceil_mode=False)\n",
              "    (1): Flatten(start_dim=1, end_dim=-1)\n",
              "    (2): Linear(in_features=512, out_features=38, bias=True)\n",
              "  )\n",
              ")"
            ]
          },
          "metadata": {},
          "execution_count": 45
        }
      ],
      "source": [
        "# defining the model and moving it to the GPU\n",
        "model = to_device(ResNet9(3, len(train.classes)), device) \n",
        "model"
      ]
    },
    {
      "cell_type": "code",
      "execution_count": null,
      "metadata": {
        "execution": {
          "iopub.execute_input": "2020-12-15T06:54:41.526182Z",
          "iopub.status.busy": "2020-12-15T06:54:41.525236Z",
          "iopub.status.idle": "2020-12-15T06:54:42.238107Z",
          "shell.execute_reply": "2020-12-15T06:54:42.237349Z"
        },
        "papermill": {
          "duration": 0.865999,
          "end_time": "2020-12-15T06:54:42.238301",
          "exception": false,
          "start_time": "2020-12-15T06:54:41.372302",
          "status": "completed"
        },
        "tags": [],
        "id": "8uUMIbg2Q3db",
        "outputId": "ca781f34-44b7-4236-8c0a-82a13a072b8b",
        "colab": {
          "base_uri": "https://localhost:8080/"
        }
      },
      "outputs": [
        {
          "output_type": "stream",
          "name": "stdout",
          "text": [
            "----------------------------------------------------------------\n",
            "        Layer (type)               Output Shape         Param #\n",
            "================================================================\n",
            "            Conv2d-1         [-1, 64, 256, 256]           1,792\n",
            "       BatchNorm2d-2         [-1, 64, 256, 256]             128\n",
            "              ReLU-3         [-1, 64, 256, 256]               0\n",
            "            Conv2d-4        [-1, 128, 256, 256]          73,856\n",
            "       BatchNorm2d-5        [-1, 128, 256, 256]             256\n",
            "              ReLU-6        [-1, 128, 256, 256]               0\n",
            "         MaxPool2d-7          [-1, 128, 64, 64]               0\n",
            "            Conv2d-8          [-1, 128, 64, 64]         147,584\n",
            "       BatchNorm2d-9          [-1, 128, 64, 64]             256\n",
            "             ReLU-10          [-1, 128, 64, 64]               0\n",
            "           Conv2d-11          [-1, 128, 64, 64]         147,584\n",
            "      BatchNorm2d-12          [-1, 128, 64, 64]             256\n",
            "             ReLU-13          [-1, 128, 64, 64]               0\n",
            "           Conv2d-14          [-1, 256, 64, 64]         295,168\n",
            "      BatchNorm2d-15          [-1, 256, 64, 64]             512\n",
            "             ReLU-16          [-1, 256, 64, 64]               0\n",
            "        MaxPool2d-17          [-1, 256, 16, 16]               0\n",
            "           Conv2d-18          [-1, 512, 16, 16]       1,180,160\n",
            "      BatchNorm2d-19          [-1, 512, 16, 16]           1,024\n",
            "             ReLU-20          [-1, 512, 16, 16]               0\n",
            "        MaxPool2d-21            [-1, 512, 4, 4]               0\n",
            "           Conv2d-22            [-1, 512, 4, 4]       2,359,808\n",
            "      BatchNorm2d-23            [-1, 512, 4, 4]           1,024\n",
            "             ReLU-24            [-1, 512, 4, 4]               0\n",
            "           Conv2d-25            [-1, 512, 4, 4]       2,359,808\n",
            "      BatchNorm2d-26            [-1, 512, 4, 4]           1,024\n",
            "             ReLU-27            [-1, 512, 4, 4]               0\n",
            "        MaxPool2d-28            [-1, 512, 1, 1]               0\n",
            "          Flatten-29                  [-1, 512]               0\n",
            "           Linear-30                   [-1, 38]          19,494\n",
            "================================================================\n",
            "Total params: 6,589,734\n",
            "Trainable params: 6,589,734\n",
            "Non-trainable params: 0\n",
            "----------------------------------------------------------------\n",
            "Input size (MB): 0.75\n",
            "Forward/backward pass size (MB): 343.95\n",
            "Params size (MB): 25.14\n",
            "Estimated Total Size (MB): 369.83\n",
            "----------------------------------------------------------------\n",
            "None\n"
          ]
        }
      ],
      "source": [
        "# getting summary of the model\n",
        "INPUT_SHAPE = (3, 256, 256)\n",
        "print(summary(model.cuda(), (INPUT_SHAPE)))"
      ]
    },
    {
      "cell_type": "markdown",
      "metadata": {
        "papermill": {
          "duration": 0.14664,
          "end_time": "2020-12-15T06:54:42.545891",
          "exception": false,
          "start_time": "2020-12-15T06:54:42.399251",
          "status": "completed"
        },
        "tags": [],
        "id": "FSNMi2uaQ3db"
      },
      "source": [
        "## Training the model"
      ]
    },
    {
      "cell_type": "code",
      "execution_count": null,
      "metadata": {
        "execution": {
          "iopub.execute_input": "2020-12-15T06:54:43.464522Z",
          "iopub.status.busy": "2020-12-15T06:54:43.463494Z",
          "iopub.status.idle": "2020-12-15T06:54:43.466732Z",
          "shell.execute_reply": "2020-12-15T06:54:43.466153Z"
        },
        "papermill": {
          "duration": 0.169191,
          "end_time": "2020-12-15T06:54:43.466833",
          "exception": false,
          "start_time": "2020-12-15T06:54:43.297642",
          "status": "completed"
        },
        "tags": [],
        "id": "mJE8lp75Q3db"
      },
      "outputs": [],
      "source": [
        "# for training\n",
        "@torch.no_grad()\n",
        "def evaluate(model, val_loader):\n",
        "    model.eval()\n",
        "    outputs = [model.validation_step(batch) for batch in val_loader]\n",
        "    return model.validation_epoch_end(outputs)\n",
        "\n",
        "\n",
        "def get_lr(optimizer):\n",
        "    for param_group in optimizer.param_groups:\n",
        "        return param_group['lr']\n",
        "    \n",
        "\n",
        "def fit_OneCycle(epochs, max_lr, model, train_loader, val_loader, weight_decay=0,\n",
        "                grad_clip=None, opt_func=torch.optim.SGD):\n",
        "    torch.cuda.empty_cache()\n",
        "    history = []\n",
        "    \n",
        "    optimizer = opt_func(model.parameters(), max_lr, weight_decay=weight_decay)\n",
        "    # scheduler for one cycle learniing rate\n",
        "    sched = torch.optim.lr_scheduler.OneCycleLR(optimizer, max_lr, epochs=epochs, steps_per_epoch=len(train_loader))\n",
        "    \n",
        "    \n",
        "    for epoch in range(epochs):\n",
        "        # Training\n",
        "        model.train()\n",
        "        train_losses = []\n",
        "        lrs = []\n",
        "        for batch in train_loader:\n",
        "            loss = model.training_step(batch)\n",
        "            train_losses.append(loss)\n",
        "            loss.backward()\n",
        "            \n",
        "            # gradient clipping\n",
        "            if grad_clip: \n",
        "                nn.utils.clip_grad_value_(model.parameters(), grad_clip)\n",
        "                \n",
        "            optimizer.step()\n",
        "            optimizer.zero_grad()\n",
        "            \n",
        "            # recording and updating learning rates\n",
        "            lrs.append(get_lr(optimizer))\n",
        "            sched.step()\n",
        "            \n",
        "    \n",
        "        # validation\n",
        "        result = evaluate(model, val_loader)\n",
        "        result['train_loss'] = torch.stack(train_losses).mean().item()\n",
        "        result['lrs'] = lrs\n",
        "        model.epoch_end(epoch, result)\n",
        "        history.append(result)\n",
        "        \n",
        "    return history\n",
        "    "
      ]
    },
    {
      "cell_type": "code",
      "execution_count": null,
      "metadata": {
        "execution": {
          "iopub.execute_input": "2020-12-15T06:54:44.229384Z",
          "iopub.status.busy": "2020-12-15T06:54:44.228659Z",
          "iopub.status.idle": "2020-12-15T06:56:16.949501Z",
          "shell.execute_reply": "2020-12-15T06:56:16.948857Z"
        },
        "papermill": {
          "duration": 93.028639,
          "end_time": "2020-12-15T06:56:16.949629",
          "exception": false,
          "start_time": "2020-12-15T06:54:43.920990",
          "status": "completed"
        },
        "tags": [],
        "id": "d_Md34fEQ3dc",
        "outputId": "aa9f33e6-7754-4fb9-8fdd-35ff3e1af24b",
        "colab": {
          "base_uri": "https://localhost:8080/"
        }
      },
      "outputs": [
        {
          "output_type": "stream",
          "name": "stdout",
          "text": [
            "CPU times: user 34.9 s, sys: 3.48 s, total: 38.4 s\n",
            "Wall time: 1min 9s\n"
          ]
        }
      ],
      "source": [
        "%%time\n",
        "history = [evaluate(model, valid_dl)]\n",
        "history"
      ]
    },
    {
      "cell_type": "code",
      "execution_count": null,
      "metadata": {
        "execution": {
          "iopub.execute_input": "2020-12-15T06:56:17.600661Z",
          "iopub.status.busy": "2020-12-15T06:56:17.598919Z",
          "iopub.status.idle": "2020-12-15T06:56:17.601325Z",
          "shell.execute_reply": "2020-12-15T06:56:17.601787Z"
        },
        "papermill": {
          "duration": 0.162208,
          "end_time": "2020-12-15T06:56:17.601908",
          "exception": false,
          "start_time": "2020-12-15T06:56:17.439700",
          "status": "completed"
        },
        "tags": [],
        "id": "f6nFDcHCQ3dc"
      },
      "outputs": [],
      "source": [
        "epochs = 2\n",
        "max_lr = 0.01\n",
        "grad_clip = 0.1\n",
        "weight_decay = 1e-4\n",
        "opt_func = torch.optim.Adam"
      ]
    },
    {
      "cell_type": "code",
      "execution_count": null,
      "metadata": {
        "execution": {
          "iopub.execute_input": "2020-12-15T06:56:18.447829Z",
          "iopub.status.busy": "2020-12-15T06:56:18.446899Z",
          "iopub.status.idle": "2020-12-15T07:16:12.440007Z",
          "shell.execute_reply": "2020-12-15T07:16:12.440757Z"
        },
        "papermill": {
          "duration": 1194.323015,
          "end_time": "2020-12-15T07:16:12.440924",
          "exception": false,
          "start_time": "2020-12-15T06:56:18.117909",
          "status": "completed"
        },
        "tags": [],
        "id": "j2n-bndqQ3dc",
        "outputId": "fec7244e-61e2-4414-f51a-ec3827acb705",
        "colab": {
          "base_uri": "https://localhost:8080/"
        }
      },
      "outputs": [
        {
          "output_type": "stream",
          "name": "stdout",
          "text": [
            "Epoch [0], last_lr: 0.00812, train_loss: 0.7410, val_loss: 0.5390, val_acc: 0.8465\n",
            "Epoch [1], last_lr: 0.00000, train_loss: 0.1245, val_loss: 0.0251, val_acc: 0.9930\n",
            "CPU times: user 9min 2s, sys: 7min 17s, total: 16min 20s\n",
            "Wall time: 19min 6s\n"
          ]
        }
      ],
      "source": [
        "%%time\n",
        "history += fit_OneCycle(epochs, max_lr, model, train_dl, valid_dl, \n",
        "                             grad_clip=grad_clip, \n",
        "                             weight_decay=1e-4, \n",
        "                             opt_func=opt_func)"
      ]
    },
    {
      "cell_type": "markdown",
      "metadata": {
        "papermill": {
          "duration": 0.169551,
          "end_time": "2020-12-15T07:16:13.107269",
          "exception": false,
          "start_time": "2020-12-15T07:16:12.937718",
          "status": "completed"
        },
        "tags": [],
        "id": "GIRYP6J1Q3dd"
      },
      "source": [
        "## Plotting"
      ]
    },
    {
      "cell_type": "markdown",
      "metadata": {
        "papermill": {
          "duration": 0.164374,
          "end_time": "2020-12-15T07:16:13.436479",
          "exception": false,
          "start_time": "2020-12-15T07:16:13.272105",
          "status": "completed"
        },
        "tags": [],
        "id": "FRbAwECwQ3dd"
      },
      "source": [
        "#### Helper functions for plotting"
      ]
    },
    {
      "cell_type": "code",
      "execution_count": null,
      "metadata": {
        "execution": {
          "iopub.execute_input": "2020-12-15T07:16:13.764368Z",
          "iopub.status.busy": "2020-12-15T07:16:13.763714Z",
          "iopub.status.idle": "2020-12-15T07:16:13.768095Z",
          "shell.execute_reply": "2020-12-15T07:16:13.767310Z"
        },
        "papermill": {
          "duration": 0.17176,
          "end_time": "2020-12-15T07:16:13.768238",
          "exception": false,
          "start_time": "2020-12-15T07:16:13.596478",
          "status": "completed"
        },
        "tags": [],
        "id": "NhG-MZ4oQ3dd"
      },
      "outputs": [],
      "source": [
        "def plot_accuracies(history):\n",
        "    accuracies = [x['val_accuracy'] for x in history]\n",
        "    plt.plot(accuracies, '-x')\n",
        "    plt.xlabel('epoch')\n",
        "    plt.ylabel('accuracy')\n",
        "    plt.title('Accuracy vs. No. of epochs');\n",
        "\n",
        "def plot_losses(history):\n",
        "    train_losses = [x.get('train_loss') for x in history]\n",
        "    val_losses = [x['val_loss'] for x in history]\n",
        "    plt.plot(train_losses, '-bx')\n",
        "    plt.plot(val_losses, '-rx')\n",
        "    plt.xlabel('epoch')\n",
        "    plt.ylabel('loss')\n",
        "    plt.legend(['Training', 'Validation'])\n",
        "    plt.title('Loss vs. No. of epochs');\n",
        "    \n",
        "def plot_lrs(history):\n",
        "    lrs = np.concatenate([x.get('lrs', []) for x in history])\n",
        "    plt.plot(lrs)\n",
        "    plt.xlabel('Batch no.')\n",
        "    plt.ylabel('Learning rate')\n",
        "    plt.title('Learning Rate vs. Batch no.');"
      ]
    },
    {
      "cell_type": "markdown",
      "metadata": {
        "papermill": {
          "duration": 0.156803,
          "end_time": "2020-12-15T07:16:14.082237",
          "exception": false,
          "start_time": "2020-12-15T07:16:13.925434",
          "status": "completed"
        },
        "tags": [],
        "id": "2Dgnli9zQ3dd"
      },
      "source": [
        "## Validation Accuracy"
      ]
    },
    {
      "cell_type": "code",
      "execution_count": null,
      "metadata": {
        "execution": {
          "iopub.execute_input": "2020-12-15T07:16:14.408742Z",
          "iopub.status.busy": "2020-12-15T07:16:14.407718Z",
          "iopub.status.idle": "2020-12-15T07:16:14.572814Z",
          "shell.execute_reply": "2020-12-15T07:16:14.573361Z"
        },
        "papermill": {
          "duration": 0.331211,
          "end_time": "2020-12-15T07:16:14.573505",
          "exception": false,
          "start_time": "2020-12-15T07:16:14.242294",
          "status": "completed"
        },
        "tags": [],
        "id": "ywJ7dwRdQ3dd",
        "outputId": "f5cd9e3b-a322-4912-a3e0-34988fbc7aea",
        "colab": {
          "base_uri": "https://localhost:8080/",
          "height": 295
        }
      },
      "outputs": [
        {
          "output_type": "display_data",
          "data": {
            "text/plain": [
              "<Figure size 432x288 with 1 Axes>"
            ],
            "image/png": "[encoded data removed]"
          },
          "metadata": {
            "needs_background": "light"
          }
        }
      ],
      "source": [
        "plot_accuracies(history)"
      ]
    },
    {
      "cell_type": "markdown",
      "metadata": {
        "papermill": {
          "duration": 0.163962,
          "end_time": "2020-12-15T07:16:14.905941",
          "exception": false,
          "start_time": "2020-12-15T07:16:14.741979",
          "status": "completed"
        },
        "tags": [],
        "id": "dLF5sqYyQ3dd"
      },
      "source": [
        "## Validation loss"
      ]
    },
    {
      "cell_type": "code",
      "execution_count": null,
      "metadata": {
        "execution": {
          "iopub.execute_input": "2020-12-15T07:16:15.243562Z",
          "iopub.status.busy": "2020-12-15T07:16:15.242443Z",
          "iopub.status.idle": "2020-12-15T07:16:15.434328Z",
          "shell.execute_reply": "2020-12-15T07:16:15.433718Z"
        },
        "papermill": {
          "duration": 0.366892,
          "end_time": "2020-12-15T07:16:15.434461",
          "exception": false,
          "start_time": "2020-12-15T07:16:15.067569",
          "status": "completed"
        },
        "tags": [],
        "id": "Xpw_9nniQ3de",
        "outputId": "1ed5cac5-5c39-4b01-ee9c-ea0a43eee147",
        "colab": {
          "base_uri": "https://localhost:8080/",
          "height": 734
        }
      },
      "outputs": [
        {
          "output_type": "error",
          "ename": "TypeError",
          "evalue": "ignored",
          "traceback": [
            "\u001b[0;31m---------------------------------------------------------------------------\u001b[0m",
            "\u001b[0;31mAttributeError\u001b[0m                            Traceback (most recent call last)",
            "\u001b[0;32m/usr/local/lib/python3.7/dist-packages/matplotlib/cbook/__init__.py\u001b[0m in \u001b[0;36mindex_of\u001b[0;34m(y)\u001b[0m\n\u001b[1;32m   1626\u001b[0m     \u001b[0;32mtry\u001b[0m\u001b[0;34m:\u001b[0m\u001b[0;34m\u001b[0m\u001b[0;34m\u001b[0m\u001b[0m\n\u001b[0;32m-> 1627\u001b[0;31m         \u001b[0;32mreturn\u001b[0m \u001b[0my\u001b[0m\u001b[0;34m.\u001b[0m\u001b[0mindex\u001b[0m\u001b[0;34m.\u001b[0m\u001b[0mvalues\u001b[0m\u001b[0;34m,\u001b[0m \u001b[0my\u001b[0m\u001b[0;34m.\u001b[0m\u001b[0mvalues\u001b[0m\u001b[0;34m\u001b[0m\u001b[0;34m\u001b[0m\u001b[0m\n\u001b[0m\u001b[1;32m   1628\u001b[0m     \u001b[0;32mexcept\u001b[0m \u001b[0mAttributeError\u001b[0m\u001b[0;34m:\u001b[0m\u001b[0;34m\u001b[0m\u001b[0;34m\u001b[0m\u001b[0m\n",
            "\u001b[0;31mAttributeError\u001b[0m: 'builtin_function_or_method' object has no attribute 'values'",
            "\nDuring handling of the above exception, another exception occurred:\n",
            "\u001b[0;31mTypeError\u001b[0m                                 Traceback (most recent call last)",
            "\u001b[0;32m<ipython-input-71-bc38a503854b>\u001b[0m in \u001b[0;36m<module>\u001b[0;34m()\u001b[0m\n\u001b[0;32m----> 1\u001b[0;31m \u001b[0mplot_losses\u001b[0m\u001b[0;34m(\u001b[0m\u001b[0mhistory\u001b[0m\u001b[0;34m)\u001b[0m\u001b[0;34m\u001b[0m\u001b[0;34m\u001b[0m\u001b[0m\n\u001b[0m",
            "\u001b[0;32m<ipython-input-67-2ec5624dfff4>\u001b[0m in \u001b[0;36mplot_losses\u001b[0;34m(history)\u001b[0m\n\u001b[1;32m     10\u001b[0m     \u001b[0mval_losses\u001b[0m \u001b[0;34m=\u001b[0m \u001b[0;34m[\u001b[0m\u001b[0mx\u001b[0m\u001b[0;34m[\u001b[0m\u001b[0;34m'val_loss'\u001b[0m\u001b[0;34m]\u001b[0m \u001b[0;32mfor\u001b[0m \u001b[0mx\u001b[0m \u001b[0;32min\u001b[0m \u001b[0mhistory\u001b[0m\u001b[0;34m]\u001b[0m\u001b[0;34m\u001b[0m\u001b[0;34m\u001b[0m\u001b[0m\n\u001b[1;32m     11\u001b[0m     \u001b[0mplt\u001b[0m\u001b[0;34m.\u001b[0m\u001b[0mplot\u001b[0m\u001b[0;34m(\u001b[0m\u001b[0mtrain_losses\u001b[0m\u001b[0;34m,\u001b[0m \u001b[0;34m'-bx'\u001b[0m\u001b[0;34m)\u001b[0m\u001b[0;34m\u001b[0m\u001b[0;34m\u001b[0m\u001b[0m\n\u001b[0;32m---> 12\u001b[0;31m     \u001b[0mplt\u001b[0m\u001b[0;34m.\u001b[0m\u001b[0mplot\u001b[0m\u001b[0;34m(\u001b[0m\u001b[0mval_losses\u001b[0m\u001b[0;34m,\u001b[0m \u001b[0;34m'-rx'\u001b[0m\u001b[0;34m)\u001b[0m\u001b[0;34m\u001b[0m\u001b[0;34m\u001b[0m\u001b[0m\n\u001b[0m\u001b[1;32m     13\u001b[0m     \u001b[0mplt\u001b[0m\u001b[0;34m.\u001b[0m\u001b[0mxlabel\u001b[0m\u001b[0;34m(\u001b[0m\u001b[0;34m'epoch'\u001b[0m\u001b[0;34m)\u001b[0m\u001b[0;34m\u001b[0m\u001b[0;34m\u001b[0m\u001b[0m\n\u001b[1;32m     14\u001b[0m     \u001b[0mplt\u001b[0m\u001b[0;34m.\u001b[0m\u001b[0mylabel\u001b[0m\u001b[0;34m(\u001b[0m\u001b[0;34m'loss'\u001b[0m\u001b[0;34m)\u001b[0m\u001b[0;34m\u001b[0m\u001b[0;34m\u001b[0m\u001b[0m\n",
            "\u001b[0;32m/usr/local/lib/python3.7/dist-packages/matplotlib/pyplot.py\u001b[0m in \u001b[0;36mplot\u001b[0;34m(scalex, scaley, data, *args, **kwargs)\u001b[0m\n\u001b[1;32m   2761\u001b[0m     return gca().plot(\n\u001b[1;32m   2762\u001b[0m         *args, scalex=scalex, scaley=scaley, **({\"data\": data} if data\n\u001b[0;32m-> 2763\u001b[0;31m         is not None else {}), **kwargs)\n\u001b[0m\u001b[1;32m   2764\u001b[0m \u001b[0;34m\u001b[0m\u001b[0m\n\u001b[1;32m   2765\u001b[0m \u001b[0;34m\u001b[0m\u001b[0m\n",
            "\u001b[0;32m/usr/local/lib/python3.7/dist-packages/matplotlib/axes/_axes.py\u001b[0m in \u001b[0;36mplot\u001b[0;34m(self, scalex, scaley, data, *args, **kwargs)\u001b[0m\n\u001b[1;32m   1645\u001b[0m         \"\"\"\n\u001b[1;32m   1646\u001b[0m         \u001b[0mkwargs\u001b[0m \u001b[0;34m=\u001b[0m \u001b[0mcbook\u001b[0m\u001b[0;34m.\u001b[0m\u001b[0mnormalize_kwargs\u001b[0m\u001b[0;34m(\u001b[0m\u001b[0mkwargs\u001b[0m\u001b[0;34m,\u001b[0m \u001b[0mmlines\u001b[0m\u001b[0;34m.\u001b[0m\u001b[0mLine2D\u001b[0m\u001b[0;34m)\u001b[0m\u001b[0;34m\u001b[0m\u001b[0;34m\u001b[0m\u001b[0m\n\u001b[0;32m-> 1647\u001b[0;31m         \u001b[0mlines\u001b[0m \u001b[0;34m=\u001b[0m \u001b[0;34m[\u001b[0m\u001b[0;34m*\u001b[0m\u001b[0mself\u001b[0m\u001b[0;34m.\u001b[0m\u001b[0m_get_lines\u001b[0m\u001b[0;34m(\u001b[0m\u001b[0;34m*\u001b[0m\u001b[0margs\u001b[0m\u001b[0;34m,\u001b[0m \u001b[0mdata\u001b[0m\u001b[0;34m=\u001b[0m\u001b[0mdata\u001b[0m\u001b[0;34m,\u001b[0m \u001b[0;34m**\u001b[0m\u001b[0mkwargs\u001b[0m\u001b[0;34m)\u001b[0m\u001b[0;34m]\u001b[0m\u001b[0;34m\u001b[0m\u001b[0;34m\u001b[0m\u001b[0m\n\u001b[0m\u001b[1;32m   1648\u001b[0m         \u001b[0;32mfor\u001b[0m \u001b[0mline\u001b[0m \u001b[0;32min\u001b[0m \u001b[0mlines\u001b[0m\u001b[0;34m:\u001b[0m\u001b[0;34m\u001b[0m\u001b[0;34m\u001b[0m\u001b[0m\n\u001b[1;32m   1649\u001b[0m             \u001b[0mself\u001b[0m\u001b[0;34m.\u001b[0m\u001b[0madd_line\u001b[0m\u001b[0;34m(\u001b[0m\u001b[0mline\u001b[0m\u001b[0;34m)\u001b[0m\u001b[0;34m\u001b[0m\u001b[0;34m\u001b[0m\u001b[0m\n",
            "\u001b[0;32m/usr/local/lib/python3.7/dist-packages/matplotlib/axes/_base.py\u001b[0m in \u001b[0;36m__call__\u001b[0;34m(self, *args, **kwargs)\u001b[0m\n\u001b[1;32m    214\u001b[0m                 \u001b[0mthis\u001b[0m \u001b[0;34m+=\u001b[0m \u001b[0margs\u001b[0m\u001b[0;34m[\u001b[0m\u001b[0;36m0\u001b[0m\u001b[0;34m]\u001b[0m\u001b[0;34m,\u001b[0m\u001b[0;34m\u001b[0m\u001b[0;34m\u001b[0m\u001b[0m\n\u001b[1;32m    215\u001b[0m                 \u001b[0margs\u001b[0m \u001b[0;34m=\u001b[0m \u001b[0margs\u001b[0m\u001b[0;34m[\u001b[0m\u001b[0;36m1\u001b[0m\u001b[0;34m:\u001b[0m\u001b[0;34m]\u001b[0m\u001b[0;34m\u001b[0m\u001b[0;34m\u001b[0m\u001b[0m\n\u001b[0;32m--> 216\u001b[0;31m             \u001b[0;32myield\u001b[0m \u001b[0;32mfrom\u001b[0m \u001b[0mself\u001b[0m\u001b[0;34m.\u001b[0m\u001b[0m_plot_args\u001b[0m\u001b[0;34m(\u001b[0m\u001b[0mthis\u001b[0m\u001b[0;34m,\u001b[0m \u001b[0mkwargs\u001b[0m\u001b[0;34m)\u001b[0m\u001b[0;34m\u001b[0m\u001b[0;34m\u001b[0m\u001b[0m\n\u001b[0m\u001b[1;32m    217\u001b[0m \u001b[0;34m\u001b[0m\u001b[0m\n\u001b[1;32m    218\u001b[0m     \u001b[0;32mdef\u001b[0m \u001b[0mget_next_color\u001b[0m\u001b[0;34m(\u001b[0m\u001b[0mself\u001b[0m\u001b[0;34m)\u001b[0m\u001b[0;34m:\u001b[0m\u001b[0;34m\u001b[0m\u001b[0;34m\u001b[0m\u001b[0m\n",
            "\u001b[0;32m/usr/local/lib/python3.7/dist-packages/matplotlib/axes/_base.py\u001b[0m in \u001b[0;36m_plot_args\u001b[0;34m(self, tup, kwargs)\u001b[0m\n\u001b[1;32m    332\u001b[0m             \u001b[0my\u001b[0m \u001b[0;34m=\u001b[0m \u001b[0m_check_1d\u001b[0m\u001b[0;34m(\u001b[0m\u001b[0mtup\u001b[0m\u001b[0;34m[\u001b[0m\u001b[0;34m-\u001b[0m\u001b[0;36m1\u001b[0m\u001b[0;34m]\u001b[0m\u001b[0;34m)\u001b[0m\u001b[0;34m\u001b[0m\u001b[0;34m\u001b[0m\u001b[0m\n\u001b[1;32m    333\u001b[0m         \u001b[0;32melse\u001b[0m\u001b[0;34m:\u001b[0m\u001b[0;34m\u001b[0m\u001b[0;34m\u001b[0m\u001b[0m\n\u001b[0;32m--> 334\u001b[0;31m             \u001b[0mx\u001b[0m\u001b[0;34m,\u001b[0m \u001b[0my\u001b[0m \u001b[0;34m=\u001b[0m \u001b[0mindex_of\u001b[0m\u001b[0;34m(\u001b[0m\u001b[0mtup\u001b[0m\u001b[0;34m[\u001b[0m\u001b[0;34m-\u001b[0m\u001b[0;36m1\u001b[0m\u001b[0;34m]\u001b[0m\u001b[0;34m)\u001b[0m\u001b[0;34m\u001b[0m\u001b[0;34m\u001b[0m\u001b[0m\n\u001b[0m\u001b[1;32m    335\u001b[0m \u001b[0;34m\u001b[0m\u001b[0m\n\u001b[1;32m    336\u001b[0m         \u001b[0;32mif\u001b[0m \u001b[0mself\u001b[0m\u001b[0;34m.\u001b[0m\u001b[0maxes\u001b[0m\u001b[0;34m.\u001b[0m\u001b[0mxaxis\u001b[0m \u001b[0;32mis\u001b[0m \u001b[0;32mnot\u001b[0m \u001b[0;32mNone\u001b[0m\u001b[0;34m:\u001b[0m\u001b[0;34m\u001b[0m\u001b[0;34m\u001b[0m\u001b[0m\n",
            "\u001b[0;32m/usr/local/lib/python3.7/dist-packages/matplotlib/cbook/__init__.py\u001b[0m in \u001b[0;36mindex_of\u001b[0;34m(y)\u001b[0m\n\u001b[1;32m   1627\u001b[0m         \u001b[0;32mreturn\u001b[0m \u001b[0my\u001b[0m\u001b[0;34m.\u001b[0m\u001b[0mindex\u001b[0m\u001b[0;34m.\u001b[0m\u001b[0mvalues\u001b[0m\u001b[0;34m,\u001b[0m \u001b[0my\u001b[0m\u001b[0;34m.\u001b[0m\u001b[0mvalues\u001b[0m\u001b[0;34m\u001b[0m\u001b[0;34m\u001b[0m\u001b[0m\n\u001b[1;32m   1628\u001b[0m     \u001b[0;32mexcept\u001b[0m \u001b[0mAttributeError\u001b[0m\u001b[0;34m:\u001b[0m\u001b[0;34m\u001b[0m\u001b[0;34m\u001b[0m\u001b[0m\n\u001b[0;32m-> 1629\u001b[0;31m         \u001b[0my\u001b[0m \u001b[0;34m=\u001b[0m \u001b[0m_check_1d\u001b[0m\u001b[0;34m(\u001b[0m\u001b[0my\u001b[0m\u001b[0;34m)\u001b[0m\u001b[0;34m\u001b[0m\u001b[0;34m\u001b[0m\u001b[0m\n\u001b[0m\u001b[1;32m   1630\u001b[0m         \u001b[0;32mreturn\u001b[0m \u001b[0mnp\u001b[0m\u001b[0;34m.\u001b[0m\u001b[0marange\u001b[0m\u001b[0;34m(\u001b[0m\u001b[0my\u001b[0m\u001b[0;34m.\u001b[0m\u001b[0mshape\u001b[0m\u001b[0;34m[\u001b[0m\u001b[0;36m0\u001b[0m\u001b[0;34m]\u001b[0m\u001b[0;34m,\u001b[0m \u001b[0mdtype\u001b[0m\u001b[0;34m=\u001b[0m\u001b[0mfloat\u001b[0m\u001b[0;34m)\u001b[0m\u001b[0;34m,\u001b[0m \u001b[0my\u001b[0m\u001b[0;34m\u001b[0m\u001b[0;34m\u001b[0m\u001b[0m\n\u001b[1;32m   1631\u001b[0m \u001b[0;34m\u001b[0m\u001b[0m\n",
            "\u001b[0;32m/usr/local/lib/python3.7/dist-packages/matplotlib/cbook/__init__.py\u001b[0m in \u001b[0;36m_check_1d\u001b[0;34m(x)\u001b[0m\n\u001b[1;32m   1324\u001b[0m     '''\n\u001b[1;32m   1325\u001b[0m     \u001b[0;32mif\u001b[0m \u001b[0;32mnot\u001b[0m \u001b[0mhasattr\u001b[0m\u001b[0;34m(\u001b[0m\u001b[0mx\u001b[0m\u001b[0;34m,\u001b[0m \u001b[0;34m'shape'\u001b[0m\u001b[0;34m)\u001b[0m \u001b[0;32mor\u001b[0m \u001b[0mlen\u001b[0m\u001b[0;34m(\u001b[0m\u001b[0mx\u001b[0m\u001b[0;34m.\u001b[0m\u001b[0mshape\u001b[0m\u001b[0;34m)\u001b[0m \u001b[0;34m<\u001b[0m \u001b[0;36m1\u001b[0m\u001b[0;34m:\u001b[0m\u001b[0;34m\u001b[0m\u001b[0;34m\u001b[0m\u001b[0m\n\u001b[0;32m-> 1326\u001b[0;31m         \u001b[0;32mreturn\u001b[0m \u001b[0mnp\u001b[0m\u001b[0;34m.\u001b[0m\u001b[0matleast_1d\u001b[0m\u001b[0;34m(\u001b[0m\u001b[0mx\u001b[0m\u001b[0;34m)\u001b[0m\u001b[0;34m\u001b[0m\u001b[0;34m\u001b[0m\u001b[0m\n\u001b[0m\u001b[1;32m   1327\u001b[0m     \u001b[0;32melse\u001b[0m\u001b[0;34m:\u001b[0m\u001b[0;34m\u001b[0m\u001b[0;34m\u001b[0m\u001b[0m\n\u001b[1;32m   1328\u001b[0m         \u001b[0;32mtry\u001b[0m\u001b[0;34m:\u001b[0m\u001b[0;34m\u001b[0m\u001b[0;34m\u001b[0m\u001b[0m\n",
            "\u001b[0;32m<__array_function__ internals>\u001b[0m in \u001b[0;36matleast_1d\u001b[0;34m(*args, **kwargs)\u001b[0m\n",
            "\u001b[0;32m/usr/local/lib/python3.7/dist-packages/numpy/core/shape_base.py\u001b[0m in \u001b[0;36matleast_1d\u001b[0;34m(*arys)\u001b[0m\n\u001b[1;32m     63\u001b[0m     \u001b[0mres\u001b[0m \u001b[0;34m=\u001b[0m \u001b[0;34m[\u001b[0m\u001b[0;34m]\u001b[0m\u001b[0;34m\u001b[0m\u001b[0;34m\u001b[0m\u001b[0m\n\u001b[1;32m     64\u001b[0m     \u001b[0;32mfor\u001b[0m \u001b[0mary\u001b[0m \u001b[0;32min\u001b[0m \u001b[0marys\u001b[0m\u001b[0;34m:\u001b[0m\u001b[0;34m\u001b[0m\u001b[0;34m\u001b[0m\u001b[0m\n\u001b[0;32m---> 65\u001b[0;31m         \u001b[0mary\u001b[0m \u001b[0;34m=\u001b[0m \u001b[0masanyarray\u001b[0m\u001b[0;34m(\u001b[0m\u001b[0mary\u001b[0m\u001b[0;34m)\u001b[0m\u001b[0;34m\u001b[0m\u001b[0;34m\u001b[0m\u001b[0m\n\u001b[0m\u001b[1;32m     66\u001b[0m         \u001b[0;32mif\u001b[0m \u001b[0mary\u001b[0m\u001b[0;34m.\u001b[0m\u001b[0mndim\u001b[0m \u001b[0;34m==\u001b[0m \u001b[0;36m0\u001b[0m\u001b[0;34m:\u001b[0m\u001b[0;34m\u001b[0m\u001b[0;34m\u001b[0m\u001b[0m\n\u001b[1;32m     67\u001b[0m             \u001b[0mresult\u001b[0m \u001b[0;34m=\u001b[0m \u001b[0mary\u001b[0m\u001b[0;34m.\u001b[0m\u001b[0mreshape\u001b[0m\u001b[0;34m(\u001b[0m\u001b[0;36m1\u001b[0m\u001b[0;34m)\u001b[0m\u001b[0;34m\u001b[0m\u001b[0;34m\u001b[0m\u001b[0m\n",
            "\u001b[0;32m/usr/local/lib/python3.7/dist-packages/torch/_tensor.py\u001b[0m in \u001b[0;36m__array__\u001b[0;34m(self, dtype)\u001b[0m\n\u001b[1;32m    676\u001b[0m             \u001b[0;32mreturn\u001b[0m \u001b[0mhandle_torch_function\u001b[0m\u001b[0;34m(\u001b[0m\u001b[0mTensor\u001b[0m\u001b[0;34m.\u001b[0m\u001b[0m__array__\u001b[0m\u001b[0;34m,\u001b[0m \u001b[0;34m(\u001b[0m\u001b[0mself\u001b[0m\u001b[0;34m,\u001b[0m\u001b[0;34m)\u001b[0m\u001b[0;34m,\u001b[0m \u001b[0mself\u001b[0m\u001b[0;34m,\u001b[0m \u001b[0mdtype\u001b[0m\u001b[0;34m=\u001b[0m\u001b[0mdtype\u001b[0m\u001b[0;34m)\u001b[0m\u001b[0;34m\u001b[0m\u001b[0;34m\u001b[0m\u001b[0m\n\u001b[1;32m    677\u001b[0m         \u001b[0;32mif\u001b[0m \u001b[0mdtype\u001b[0m \u001b[0;32mis\u001b[0m \u001b[0;32mNone\u001b[0m\u001b[0;34m:\u001b[0m\u001b[0;34m\u001b[0m\u001b[0;34m\u001b[0m\u001b[0m\n\u001b[0;32m--> 678\u001b[0;31m             \u001b[0;32mreturn\u001b[0m \u001b[0mself\u001b[0m\u001b[0;34m.\u001b[0m\u001b[0mnumpy\u001b[0m\u001b[0;34m(\u001b[0m\u001b[0;34m)\u001b[0m\u001b[0;34m\u001b[0m\u001b[0;34m\u001b[0m\u001b[0m\n\u001b[0m\u001b[1;32m    679\u001b[0m         \u001b[0;32melse\u001b[0m\u001b[0;34m:\u001b[0m\u001b[0;34m\u001b[0m\u001b[0;34m\u001b[0m\u001b[0m\n\u001b[1;32m    680\u001b[0m             \u001b[0;32mreturn\u001b[0m \u001b[0mself\u001b[0m\u001b[0;34m.\u001b[0m\u001b[0mnumpy\u001b[0m\u001b[0;34m(\u001b[0m\u001b[0;34m)\u001b[0m\u001b[0;34m.\u001b[0m\u001b[0mastype\u001b[0m\u001b[0;34m(\u001b[0m\u001b[0mdtype\u001b[0m\u001b[0;34m,\u001b[0m \u001b[0mcopy\u001b[0m\u001b[0;34m=\u001b[0m\u001b[0;32mFalse\u001b[0m\u001b[0;34m)\u001b[0m\u001b[0;34m\u001b[0m\u001b[0;34m\u001b[0m\u001b[0m\n",
            "\u001b[0;31mTypeError\u001b[0m: can't convert cuda:0 device type tensor to numpy. Use Tensor.cpu() to copy the tensor to host memory first."
          ]
        },
        {
          "output_type": "display_data",
          "data": {
            "text/plain": [
              "<Figure size 432x288 with 1 Axes>"
            ],
            "image/png": "[encoded data removed]"
          },
          "metadata": {
            "needs_background": "light"
          }
        }
      ],
      "source": [
        "plot_losses(history)"
      ]
    },
    {
      "cell_type": "markdown",
      "metadata": {
        "papermill": {
          "duration": 0.172962,
          "end_time": "2020-12-15T07:16:15.786238",
          "exception": false,
          "start_time": "2020-12-15T07:16:15.613276",
          "status": "completed"
        },
        "tags": [],
        "id": "kdg8x3IrQ3de"
      },
      "source": [
        "## Learning Rate overtime"
      ]
    },
    {
      "cell_type": "code",
      "execution_count": null,
      "metadata": {
        "execution": {
          "iopub.execute_input": "2020-12-15T07:16:16.154344Z",
          "iopub.status.busy": "2020-12-15T07:16:16.152541Z",
          "iopub.status.idle": "2020-12-15T07:16:16.294279Z",
          "shell.execute_reply": "2020-12-15T07:16:16.294829Z"
        },
        "papermill": {
          "duration": 0.33312,
          "end_time": "2020-12-15T07:16:16.294990",
          "exception": false,
          "start_time": "2020-12-15T07:16:15.961870",
          "status": "completed"
        },
        "tags": [],
        "id": "0f7_sV0tQ3de",
        "outputId": "ff9fd90f-426b-419e-f8ee-e14b8164fd30",
        "colab": {
          "base_uri": "https://localhost:8080/",
          "height": 295
        }
      },
      "outputs": [
        {
          "output_type": "display_data",
          "data": {
            "text/plain": [
              "<Figure size 432x288 with 1 Axes>"
            ],
            "image/png": "[encoded data removed]"
          },
          "metadata": {
            "needs_background": "light"
          }
        }
      ],
      "source": [
        "plot_lrs(history)"
      ]
    },
    {
      "cell_type": "markdown",
      "metadata": {
        "papermill": {
          "duration": 0.163691,
          "end_time": "2020-12-15T07:16:16.647423",
          "exception": false,
          "start_time": "2020-12-15T07:16:16.483732",
          "status": "completed"
        },
        "tags": [],
        "id": "pKqLRP93Q3de"
      },
      "source": [
        "## Testing model on test data"
      ]
    },
    {
      "cell_type": "code",
      "execution_count": null,
      "metadata": {
        "execution": {
          "iopub.execute_input": "2020-12-15T07:16:17.486559Z",
          "iopub.status.busy": "2020-12-15T07:16:17.485301Z",
          "iopub.status.idle": "2020-12-15T07:16:17.501849Z",
          "shell.execute_reply": "2020-12-15T07:16:17.503584Z"
        },
        "papermill": {
          "duration": 0.287752,
          "end_time": "2020-12-15T07:16:17.503784",
          "exception": false,
          "start_time": "2020-12-15T07:16:17.216032",
          "status": "completed"
        },
        "tags": [],
        "id": "yf7caeoKQ3de"
      },
      "outputs": [],
      "source": [
        "test_dir = \"/content/gdrive/MyDrive/Research/path_to_directory/test\"\n",
        "test = ImageFolder(test_dir, transform=transforms.ToTensor())"
      ]
    },
    {
      "cell_type": "code",
      "execution_count": null,
      "metadata": {
        "execution": {
          "iopub.execute_input": "2020-12-15T07:16:17.927154Z",
          "iopub.status.busy": "2020-12-15T07:16:17.925594Z",
          "iopub.status.idle": "2020-12-15T07:16:17.930241Z",
          "shell.execute_reply": "2020-12-15T07:16:17.930740Z"
        },
        "papermill": {
          "duration": 0.177962,
          "end_time": "2020-12-15T07:16:17.930865",
          "exception": false,
          "start_time": "2020-12-15T07:16:17.752903",
          "status": "completed"
        },
        "tags": [],
        "id": "WTeLaf4YQ3de",
        "outputId": "927686c3-ee6f-4256-8161-923d46a0e386",
        "colab": {
          "base_uri": "https://localhost:8080/"
        }
      },
      "outputs": [
        {
          "output_type": "execute_result",
          "data": {
            "text/plain": [
              "['AppleCedarRust1.JPG',\n",
              " 'AppleCedarRust2.JPG',\n",
              " 'AppleCedarRust3.JPG',\n",
              " 'AppleCedarRust4.JPG',\n",
              " 'AppleScab1.JPG',\n",
              " 'AppleScab2.JPG',\n",
              " 'AppleScab3.JPG',\n",
              " 'CornCommonRust1.JPG',\n",
              " 'CornCommonRust2.JPG',\n",
              " 'CornCommonRust3.JPG',\n",
              " 'PotatoEarlyBlight1.JPG',\n",
              " 'PotatoEarlyBlight2.JPG',\n",
              " 'PotatoEarlyBlight3.JPG',\n",
              " 'PotatoEarlyBlight4.JPG',\n",
              " 'PotatoEarlyBlight5.JPG',\n",
              " 'PotatoHealthy1.JPG',\n",
              " 'PotatoHealthy2.JPG',\n",
              " 'TomatoEarlyBlight1.JPG',\n",
              " 'TomatoEarlyBlight2.JPG',\n",
              " 'TomatoEarlyBlight3.JPG',\n",
              " 'TomatoEarlyBlight4.JPG',\n",
              " 'TomatoEarlyBlight5.JPG',\n",
              " 'TomatoEarlyBlight6.JPG',\n",
              " 'TomatoHealthy1.JPG',\n",
              " 'TomatoHealthy2.JPG',\n",
              " 'TomatoHealthy3.JPG',\n",
              " 'TomatoHealthy4.JPG',\n",
              " 'TomatoYellowCurlVirus1.JPG',\n",
              " 'TomatoYellowCurlVirus2.JPG',\n",
              " 'TomatoYellowCurlVirus3.JPG',\n",
              " 'TomatoYellowCurlVirus4.JPG',\n",
              " 'TomatoYellowCurlVirus5.JPG',\n",
              " 'TomatoYellowCurlVirus6.JPG']"
            ]
          },
          "metadata": {},
          "execution_count": 73
        }
      ],
      "source": [
        "test_images = sorted(os.listdir(test_dir + '/test')) # since images in test folder are in alphabetical order\n",
        "test_images"
      ]
    },
    {
      "cell_type": "code",
      "execution_count": null,
      "metadata": {
        "execution": {
          "iopub.execute_input": "2020-12-15T07:16:18.277682Z",
          "iopub.status.busy": "2020-12-15T07:16:18.275745Z",
          "iopub.status.idle": "2020-12-15T07:16:18.278376Z",
          "shell.execute_reply": "2020-12-15T07:16:18.278875Z"
        },
        "papermill": {
          "duration": 0.17446,
          "end_time": "2020-12-15T07:16:18.278995",
          "exception": false,
          "start_time": "2020-12-15T07:16:18.104535",
          "status": "completed"
        },
        "tags": [],
        "id": "YHGzRWQeQ3de"
      },
      "outputs": [],
      "source": [
        "def predict_image(img, model):\n",
        "    \"\"\"Converts image to array and return the predicted class\n",
        "        with highest probability\"\"\"\n",
        "    # Convert to a batch of 1\n",
        "    xb = to_device(img.unsqueeze(0), device)\n",
        "    # Get predictions from model\n",
        "    yb = model(xb)\n",
        "    # Pick index with highest probability\n",
        "    _, preds  = torch.max(yb, dim=1)\n",
        "    # Retrieve the class label\n",
        "\n",
        "    return train.classes[preds[0].item()]"
      ]
    },
    {
      "cell_type": "code",
      "execution_count": null,
      "metadata": {
        "execution": {
          "iopub.execute_input": "2020-12-15T07:16:18.601686Z",
          "iopub.status.busy": "2020-12-15T07:16:18.600998Z",
          "iopub.status.idle": "2020-12-15T07:16:18.784752Z",
          "shell.execute_reply": "2020-12-15T07:16:18.784113Z"
        },
        "papermill": {
          "duration": 0.348624,
          "end_time": "2020-12-15T07:16:18.784870",
          "exception": false,
          "start_time": "2020-12-15T07:16:18.436246",
          "status": "completed"
        },
        "tags": [],
        "id": "TexMSMTJQ3df",
        "outputId": "8a6983d0-92d4-4f43-9da2-c868c5dadff5",
        "colab": {
          "base_uri": "https://localhost:8080/",
          "height": 287
        }
      },
      "outputs": [
        {
          "output_type": "stream",
          "name": "stdout",
          "text": [
            "Label: AppleCedarRust1.JPG , Predicted: Apple___Cedar_apple_rust\n"
          ]
        },
        {
          "output_type": "display_data",
          "data": {
            "text/plain": [
              "<Figure size 432x288 with 1 Axes>"
            ],
            "image/png": "[encoded data removed]"
          },
          "metadata": {
            "needs_background": "light"
          }
        }
      ],
      "source": [
        "# predicting first image\n",
        "img, label = test[0]\n",
        "plt.imshow(img.permute(1, 2, 0))\n",
        "print('Label:', test_images[0], ', Predicted:', predict_image(img, model))"
      ]
    },
    {
      "cell_type": "code",
      "execution_count": null,
      "metadata": {
        "execution": {
          "iopub.execute_input": "2020-12-15T07:16:19.123586Z",
          "iopub.status.busy": "2020-12-15T07:16:19.122676Z",
          "iopub.status.idle": "2020-12-15T07:16:19.565853Z",
          "shell.execute_reply": "2020-12-15T07:16:19.566653Z"
        },
        "papermill": {
          "duration": 0.612956,
          "end_time": "2020-12-15T07:16:19.566789",
          "exception": false,
          "start_time": "2020-12-15T07:16:18.953833",
          "status": "completed"
        },
        "tags": [],
        "id": "XJRlavh2Q3df",
        "outputId": "663b9da9-1791-4c9c-a4ef-f98cb2351fb1",
        "colab": {
          "base_uri": "https://localhost:8080/"
        }
      },
      "outputs": [
        {
          "output_type": "stream",
          "name": "stdout",
          "text": [
            "Label: AppleCedarRust1.JPG , Predicted: Apple___Cedar_apple_rust\n",
            "Label: AppleCedarRust2.JPG , Predicted: Apple___Cedar_apple_rust\n",
            "Label: AppleCedarRust3.JPG , Predicted: Apple___Cedar_apple_rust\n",
            "Label: AppleCedarRust4.JPG , Predicted: Apple___Cedar_apple_rust\n",
            "Label: AppleScab1.JPG , Predicted: Apple___Apple_scab\n",
            "Label: AppleScab2.JPG , Predicted: Apple___Apple_scab\n",
            "Label: AppleScab3.JPG , Predicted: Apple___Apple_scab\n",
            "Label: CornCommonRust1.JPG , Predicted: Corn_(maize)___Common_rust_\n",
            "Label: CornCommonRust2.JPG , Predicted: Corn_(maize)___Common_rust_\n",
            "Label: CornCommonRust3.JPG , Predicted: Corn_(maize)___Common_rust_\n",
            "Label: PotatoEarlyBlight1.JPG , Predicted: Potato___Early_blight\n",
            "Label: PotatoEarlyBlight2.JPG , Predicted: Potato___Early_blight\n",
            "Label: PotatoEarlyBlight3.JPG , Predicted: Potato___Early_blight\n",
            "Label: PotatoEarlyBlight4.JPG , Predicted: Potato___Early_blight\n",
            "Label: PotatoEarlyBlight5.JPG , Predicted: Potato___Early_blight\n",
            "Label: PotatoHealthy1.JPG , Predicted: Potato___healthy\n",
            "Label: PotatoHealthy2.JPG , Predicted: Potato___healthy\n",
            "Label: TomatoEarlyBlight1.JPG , Predicted: Tomato___Early_blight\n",
            "Label: TomatoEarlyBlight2.JPG , Predicted: Tomato___Early_blight\n",
            "Label: TomatoEarlyBlight3.JPG , Predicted: Tomato___Early_blight\n",
            "Label: TomatoEarlyBlight4.JPG , Predicted: Tomato___Early_blight\n",
            "Label: TomatoEarlyBlight5.JPG , Predicted: Tomato___Early_blight\n",
            "Label: TomatoEarlyBlight6.JPG , Predicted: Tomato___Bacterial_spot\n",
            "Label: TomatoHealthy1.JPG , Predicted: Tomato___healthy\n",
            "Label: TomatoHealthy2.JPG , Predicted: Tomato___healthy\n",
            "Label: TomatoHealthy3.JPG , Predicted: Tomato___healthy\n",
            "Label: TomatoHealthy4.JPG , Predicted: Tomato___healthy\n",
            "Label: TomatoYellowCurlVirus1.JPG , Predicted: Tomato___Tomato_Yellow_Leaf_Curl_Virus\n",
            "Label: TomatoYellowCurlVirus2.JPG , Predicted: Tomato___Tomato_Yellow_Leaf_Curl_Virus\n",
            "Label: TomatoYellowCurlVirus3.JPG , Predicted: Tomato___Tomato_Yellow_Leaf_Curl_Virus\n",
            "Label: TomatoYellowCurlVirus4.JPG , Predicted: Tomato___Tomato_Yellow_Leaf_Curl_Virus\n",
            "Label: TomatoYellowCurlVirus5.JPG , Predicted: Tomato___Tomato_Yellow_Leaf_Curl_Virus\n",
            "Label: TomatoYellowCurlVirus6.JPG , Predicted: Tomato___Tomato_Yellow_Leaf_Curl_Virus\n"
          ]
        }
      ],
      "source": [
        "# getting all predictions (actual label vs predicted)\n",
        "for i, (img, label) in enumerate(test):\n",
        "    print('Label:', test_images[i], ', Predicted:', predict_image(img, model))"
      ]
    },
    {
      "cell_type": "markdown",
      "metadata": {
        "papermill": {
          "duration": 0.167812,
          "end_time": "2020-12-15T07:16:20.231512",
          "exception": false,
          "start_time": "2020-12-15T07:16:20.063700",
          "status": "completed"
        },
        "tags": [],
        "id": "aaljUr9pQ3df"
      },
      "source": [
        "## Saving the model"
      ]
    },
    {
      "cell_type": "code",
      "execution_count": null,
      "metadata": {
        "execution": {
          "iopub.execute_input": "2020-12-15T07:16:21.236912Z",
          "iopub.status.busy": "2020-12-15T07:16:21.236137Z",
          "iopub.status.idle": "2020-12-15T07:16:21.302803Z",
          "shell.execute_reply": "2020-12-15T07:16:21.302251Z"
        },
        "papermill": {
          "duration": 0.241697,
          "end_time": "2020-12-15T07:16:21.302920",
          "exception": false,
          "start_time": "2020-12-15T07:16:21.061223",
          "status": "completed"
        },
        "tags": [],
        "id": "1wDiXIroQ3dg"
      },
      "outputs": [],
      "source": [
        "# saving to gdrive\n",
        "#PATH = '/content/gdrive/MyDrive/Research/plant-disease-model.pth'  \n",
        "torch.save(model.state_dict(), 'plant-disease-model.pth')"
      ]
    },
    {
      "cell_type": "markdown",
      "metadata": {
        "papermill": {
          "duration": 0.165877,
          "end_time": "2020-12-15T07:16:23.081615",
          "exception": false,
          "start_time": "2020-12-15T07:16:22.915738",
          "status": "completed"
        },
        "tags": [],
        "id": "0_gxElwhQ3dg"
      },
      "source": [
        "## References\n",
        "- [CIFAR10 ResNet Implementation](https://jovian.ai/aakashns/05b-cifar10-resnet)\n",
        "- [PyTorch docs](https://pytorch.org/)"
      ]
    }
  ],
  "metadata": {
    "kernelspec": {
      "display_name": "Python 3",
      "language": "python",
      "name": "python3"
    },
    "language_info": {
      "codemirror_mode": {
        "name": "ipython",
        "version": 3
      },
      "file_extension": ".py",
      "mimetype": "text/x-python",
      "name": "python",
      "nbconvert_exporter": "python",
      "pygments_lexer": "ipython3",
      "version": "3.7.6"
    },
    "papermill": {
      "duration": 1424.697889,
      "end_time": "2020-12-15T07:16:24.493770",
      "environment_variables": {},
      "exception": null,
      "input_path": "__notebook__.ipynb",
      "output_path": "__notebook__.ipynb",
      "parameters": {},
      "start_time": "2020-12-15T06:52:39.795881",
      "version": "2.1.0"
    },
    "colab": {
      "name": "plant-village-classification-resnet9.ipynb",
      "provenance": [],
      "collapsed_sections": []
    },
    "accelerator": "GPU"
  },
  "nbformat": 4,
  "nbformat_minor": 0
}
